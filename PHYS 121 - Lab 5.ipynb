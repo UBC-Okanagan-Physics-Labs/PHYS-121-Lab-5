{
 "cells": [
  {
   "cell_type": "markdown",
   "id": "2a338306",
   "metadata": {
    "deletable": false,
    "editable": false,
    "tags": []
   },
   "source": [
    "# <div style=\"background-color:rgba(204, 229, 255, 0.5); text-align:center; vertical-align: middle; padding:40px 0; margin-top:30px\"><span style=\"color:rgba(0, 76, 153, 1);\">**PHYS 121 Lab #5**<span style=\"color:red\"> $\\to$ (24 possible marks)</span> </span></div> \n",
    "\n",
    "<font size =\"4\"><span style=\"color:purple\">We recommend that you complete this notebook using either the [Google Chrome](https://www.google.com/intl/en_ca/chrome/) or [Mozilla Firefox](https://www.mozilla.org/en-CA/firefox/new/) browser.  Chrome and Firefox are both available for Windows, Mac, and Linux operating systems.  The PHYS 121 Jupyter notebooks should work in other browsers, but we have specifically verfied that they work well in both Chrome and Firefox.</span></font>\n",
    "\n",
    "# Electric & Hydraulic Circuits &ndash; Week 2"
   ]
  },
  {
   "cell_type": "markdown",
   "id": "8868aa88",
   "metadata": {
    "deletable": false,
    "editable": false,
    "tags": []
   },
   "source": [
    "***\n",
    "## Learning Objectives:\n",
    "* <b><span style=\"color:rgba(0, 153, 76, 1);\">Use concepts and mathematical tools developed to solve a problem in one field of physics to solve seemingly unrelated problems from other fields of physics.</span></b>\n",
    "* <b><span style=\"color:rgba(0, 153, 76, 1);\">Identify the limitations of analogies between distinct physical systems.</span></b>\n",
    "\n",
    "In this week's lab, you will first use the data from Lab #4 to analyze the dependence of hydraulic resistance $R_\\mathrm{H}$ on the inverse of the inner diameter $d^{-1}$ of the Teflon tubes that were used.  Next, you the same hydraulic resistors (small-diameter Teflon tubes) and hydraulic batteries (large vessel filled with water) from Lab #4 to charge a hydraulic capacitor (a large-diameter glass tube).  This experiment is the hydraulic analogue of charging a capacitor using a battery and a resistor."
   ]
  },
  {
   "cell_type": "markdown",
   "id": "578eefe4",
   "metadata": {
    "deletable": false,
    "editable": false,
    "tags": []
   },
   "source": [
    "***\n",
    "## Autograding:\n",
    "The PHYS 121 Pre-lab assignments and Labs will make use of some autograding.  To make the autograding work, the two cells below needs to be executed.  The first one installs the required packages and the second imports required packages/modules.  If 'PHYS121.Installer()' reports that some functions have been installed, the user should restart the \"kernel\" and then exectute the PHYS121.Installer() cell a second time.  The second time the installer function is run, it should report that **\"All packages already installed. Please proceed\"**.\n",
    "\n",
    "If necessary, the kernel can be restarted by selecting **Kernel** $\\to$ **Restart Kernel** from the menu options at to the top of the page.  Here is a <a href = \"https://raw.githubusercontent.com/UBC-Okanagan-Physics-Labs/PHYS-121-images/main/general/gifs/restartKernel.gif\">GIF</a> showing how to restart the kernel.\n",
    "\n",
    "The 'PHYS121.Installer()' command requires the file 'PHYS121.py', which you should see included in the list of files along the left-hand side of the screen."
   ]
  },
  {
   "cell_type": "code",
   "execution_count": null,
   "id": "a91b292f",
   "metadata": {
    "deletable": false,
    "editable": false,
    "tags": []
   },
   "outputs": [],
   "source": [
    "# Import PHYS121.py and then run the installer function.\n",
    "import PHYS121\n",
    "PHYS121.Installer()"
   ]
  },
  {
   "cell_type": "code",
   "execution_count": null,
   "id": "27fb02c7",
   "metadata": {
    "deletable": false,
    "editable": false,
    "tags": []
   },
   "outputs": [],
   "source": [
    "# Initialize Otter\n",
    "import otter\n",
    "grader = otter.Notebook(\"PHYS 121 - Lab 5.ipynb\")"
   ]
  },
  {
   "cell_type": "markdown",
   "id": "ceb59c18",
   "metadata": {
    "deletable": false,
    "editable": false,
    "tags": []
   },
   "source": [
    "***\n",
    "## Import Modules:\n",
    "Execute the cell below to import a number of useful pre-built Python modules that will be used in the PHYS 121 pre-labs and labs."
   ]
  },
  {
   "cell_type": "code",
   "execution_count": null,
   "id": "4c1dca52",
   "metadata": {},
   "outputs": [],
   "source": [
    "import numpy as np\n",
    "import matplotlib.pyplot as plt\n",
    "from matplotlib.pyplot import cm # used to generate a sequence of colours for plotting\n",
    "import pandas as pd\n",
    "import scipy.stats as sp\n",
    "from scipy.optimize import curve_fit\n",
    "from IPython.display import HTML as html_print\n",
    "from IPython.display import display, Markdown, Latex\n",
    "from IPython.display import YouTubeVideo\n",
    "import math"
   ]
  },
  {
   "cell_type": "markdown",
   "id": "82138cac",
   "metadata": {
    "deletable": false,
    "editable": false,
    "tags": []
   },
   "source": [
    "# <div style=\"background-color:rgba(255, 204, 255, 0.5); text-align:center; vertical-align: middle; padding:40px 0; margin-top:30px\"><span style=\"color:rgba(102, 0, 204, 1);\">Name & Student Number</span></div>  \n",
    "\n",
    "To ensure that both you and your partner receive credit for you lab work, both your name and student number and your partner's name and student number need to appear in the notebooks used during the labs.  In the cells below this text, enter your name and student number and your partner's name and student number as strings (i.e. place your names and student numbers between single or double quotes.\n",
    "\n",
    "Examples of valid entries are:\n",
    "```python\n",
    "last_name_1 = 'Doe'\n",
    "first_name_1 = 'Jane'\n",
    "student_number_1 = '12345678'\n",
    "```\n",
    "and\n",
    "```python\n",
    "last_name_1 = \"Doe\"\n",
    "first_name_1 = \"John\"\n",
    "student_number_1 = \"12345678\"\n",
    "```"
   ]
  },
  {
   "cell_type": "markdown",
   "id": "22979e1c",
   "metadata": {
    "deletable": false,
    "editable": false,
    "tags": []
   },
   "source": [
    "<!-- BEGIN QUESTION -->\n",
    "\n",
    "***\n",
    "### **<span style=\"color:blue\">Partner #1</span>** **<span style=\"color:red\">(0.5 marks)</span>** "
   ]
  },
  {
   "cell_type": "code",
   "execution_count": null,
   "id": "afa87189",
   "metadata": {
    "tags": []
   },
   "outputs": [],
   "source": [
    "# Enter LAST name of partner 1.  Delete the ... below and type your entry between the single quotes.\n",
    "# Once you've completed your entry, press SHIFT + ENTER to execute the cell.\n",
    "# *** Please do not change anything to the left of the equals sign. ***\n",
    "last_name_1 = ..."
   ]
  },
  {
   "cell_type": "code",
   "execution_count": null,
   "id": "f35ebe35",
   "metadata": {
    "tags": []
   },
   "outputs": [],
   "source": [
    "# Enter FIRST name of partner 1.  Delete the ... below and type your entry between the single quotes.\n",
    "# Once you've completed your entry, press SHIFT + ENTER to execute the cell.\n",
    "# *** Please do not change anything to the left of the equals sign. ***\n",
    "first_name_1 = ..."
   ]
  },
  {
   "cell_type": "code",
   "execution_count": null,
   "id": "5473526c",
   "metadata": {
    "tags": []
   },
   "outputs": [],
   "source": [
    "# Enter STUDENT NUMBER of partner 1.  Delete the ... below and type your entry between the single quotes.\n",
    "# Once you've completed your entry, press SHIFT + ENTER to execute the cell.\n",
    "# *** Please do not change anything to the left of the equals sign. ***\n",
    "student_number_1 = ..."
   ]
  },
  {
   "cell_type": "markdown",
   "id": "0fd5fee5",
   "metadata": {
    "deletable": false,
    "editable": false,
    "tags": []
   },
   "source": [
    "***\n",
    "### **<span style=\"color:blue\">Partner #2</span>** **<span style=\"color:red\">(0.5 marks)</span>** \n",
    "If you are working on your own, leave all of last_name_2, first_name_2, and student_number_2 as ...  Please still exectute these cells and then run the 'grader.check(\"name_and_student_number_2\")' cell."
   ]
  },
  {
   "cell_type": "code",
   "execution_count": null,
   "id": "ed86fbf3",
   "metadata": {
    "tags": []
   },
   "outputs": [],
   "source": [
    "# Enter LAST name of partner 2.  Delete the ... below and type your entry between the single quotes.\n",
    "# Once you've completed your entry, press SHIFT + ENTER to execute the cell.\n",
    "# *** Please do not change anything to the left of the equals sign. ***\n",
    "last_name_2 = ..."
   ]
  },
  {
   "cell_type": "code",
   "execution_count": null,
   "id": "26f469e0",
   "metadata": {
    "tags": []
   },
   "outputs": [],
   "source": [
    "# Enter FIRST name of partner 2.  Delete the ... below and type your entry between the single quotes.\n",
    "# Once you've completed your entry, press SHIFT + ENTER to execute the cell.\n",
    "# *** Please do not change anything to the left of the equals sign. ***\n",
    "first_name_2 = ..."
   ]
  },
  {
   "cell_type": "code",
   "execution_count": null,
   "id": "113d6e24",
   "metadata": {
    "tags": []
   },
   "outputs": [],
   "source": [
    "# Enter STUDENT NUMBER of partner 2.  Delete the ... below and type your entry between the single quotes.\n",
    "# Once you've completed your entry, press SHIFT + ENTER to execute the cell.\n",
    "# *** Please do not change anything to the left of the equals sign. ***\n",
    "student_number_2 = ..."
   ]
  },
  {
   "cell_type": "code",
   "execution_count": null,
   "id": "0918ea6f",
   "metadata": {
    "deletable": false,
    "editable": false
   },
   "outputs": [],
   "source": [
    "grader.check(\"name_and_student_number\")"
   ]
  },
  {
   "cell_type": "markdown",
   "id": "91d834c5",
   "metadata": {
    "deletable": false,
    "editable": false,
    "tags": []
   },
   "source": [
    "<!-- END QUESTION -->\n",
    "\n",
    "# <div style=\"background-color:rgba(255, 204, 255, 0.5); text-align:center; vertical-align: middle; padding:40px 0; margin-top:30px\"><span style=\"color:rgba(102, 0, 204, 1);\">Part 1 - $R_\\mathrm{H}$ vs $1/d$ (30 minutes)</span></div>\n",
    "\n",
    "The first part of this lab will be used to complete the analysis of hydraulic resistance $R_\\mathrm{H}$ data that you and your classmates collected in Lab #4. Here is the [link to the Google Sheets document](https://docs.google.com/spreadsheets/d/1BCeJboA1V6BY9LYW8Yyb8QwEOUXmWDtQglrZTukf02c/edit?usp=sharing) that was used at the end of Lab #4.  The first 10 tabs (corresponding to lab sections 'L01', 'L02', ..., 'L10') contain data for Teflon tubes with inner diameters of $d = 0.965$, $1.397$, $1.676$, $1.930$, and $2.413\\rm\\ mm$.  There is also a 'Physics Labs Team' tab (the last tab) that contains the hydraulic resistance data for narrow Teflon tubes with inner diameters of $d = 0.305$ and $0.559\\rm\\ mm$. The data from the Google Sheets document has already been added to a csv (**c**omma-**s**eparated-**v**alues) file called \"all-RH-Data.csv\" that should be among the files listed along the left-hand side of the screen.\n",
    "\n",
    "### *Electrical Resistance $R$ versus $1/d$*\n",
    "\n",
    "Recall from **Part 1** from Lab #4 that you measured the electrical resistance of wires having eight different diameters.  Figure 1 below shows a typical plot of the $R$ versus $1/d$ data from Lab #4.  These data were fit to a power law of the form:\n",
    "$$\n",
    "R = A\\left(\\frac{1}{d}\\right)^N + C\n",
    "$$\n",
    "and returned a value of $N = 2$ which suggests that, for electrical resistors, $R\\propto d^{-2}$.  It is also worth noting that the constant $C$ returned a value that is essentially zero within experimental uncertainty.\n",
    "\n",
    "\n",
    "<p>\n",
    "<center>\n",
    "<img src=\"https://raw.githubusercontent.com/UBC-Okanagan-Physics-Labs/PHYS-121-images/main/Lab-5/images/R-vs-d_inv.png\" alt=\"image info\" style=\"width: 45%; height: auto;\" /><br>\n",
    "<b>Fig. 1: Typical electrical resistance versus $1/d$ data from Lab #4.  The data were fit to a power-law function $R = A(1/d)^N + C$ and returned values of $N \\approx 2$ and $C\\approx 0$.</b></center>\n",
    "</p>"
   ]
  },
  {
   "cell_type": "markdown",
   "id": "ebfd39fc",
   "metadata": {
    "deletable": false,
    "editable": false,
    "tags": []
   },
   "source": [
    "<!-- BEGIN QUESTION -->\n",
    "\n",
    "***\n",
    "**<span style=\"color:blue\">Question 1.1</span>** **<span style=\"color:red\">(1 mark)</span>** \n",
    "\n",
    "The first task is to plot $R_\\mathrm{H}$ as a function of $1/d$ and then fit it to the same power-law function.  Begin by executing the cell below to import the data in \"all-RH-Data.csv\" into a DataFrame called 'Lab4Data'. \n",
    "\n",
    "*** Please do not change any of the variable names in the cell below ***"
   ]
  },
  {
   "cell_type": "code",
   "execution_count": null,
   "id": "28b37397",
   "metadata": {
    "tags": []
   },
   "outputs": [],
   "source": [
    "# By default, the DataFrame will display only a finite number of rows.\n",
    "# We can override this default by changing the 'max_rows' option to \"None\".\n",
    "# This will force the DataFrame to display all rows.\n",
    "pd.set_option('display.max_rows', None)\n",
    "\n",
    "# Load the data from the csv file.\n",
    "Lab4Data = pd.read_csv(\"all-RH-Data.csv\")\n",
    "\n",
    "# Display the dataframe.\n",
    "Lab4Data"
   ]
  },
  {
   "cell_type": "markdown",
   "id": "9e53e4f3",
   "metadata": {
    "deletable": false,
    "editable": false,
    "tags": []
   },
   "source": [
    "<!-- END QUESTION -->\n",
    "\n",
    "<!-- BEGIN QUESTION -->\n",
    "\n",
    "***\n",
    "**<span style=\"color:blue\">Question 1.2</span>** **<span style=\"color:red\">(1 mark)</span>** \n",
    "\n",
    "Next, use the 'Scatter()' function from PHYS121.py to plot $R_\\mathrm{H}$ as a function of $1/d$.  Include uncertainties in $R_\\mathrm{H}$. \n",
    "\n",
    "Fill in the missing data needed when calling the 'Scatter()' function.  Remember that the scatter function accepts arrays or lists as inputs - to call a column from a DataFrame as a list, use the syntax:\n",
    "```python\n",
    "df[\"Column Name\"] \n",
    "```\n",
    "where 'df' is the name of the DataFrame in question. For additional information about the 'Scatter()' function, see **Appendix A** near the end of this notebook.   \n",
    " \n",
    " *** Please do not change any of the variable names in the cell below ***"
   ]
  },
  {
   "cell_type": "code",
   "execution_count": null,
   "id": "355a9068",
   "metadata": {
    "tags": []
   },
   "outputs": [],
   "source": [
    "fig1 = PHYS121.Scatter(xData = ..., \n",
    "                        yData = ..., \n",
    "                        yErrors = ..., \n",
    "                        xlabel = \"1/d\", \n",
    "                        ylabel = \"R_H\", \n",
    "                        xUnits = \"1/mm\", \n",
    "                        yUnits = \"kg/m^4s\")"
   ]
  },
  {
   "cell_type": "markdown",
   "id": "126ce1e7",
   "metadata": {
    "deletable": false,
    "editable": false,
    "tags": []
   },
   "source": [
    "<!-- END QUESTION -->\n",
    "\n",
    "<!-- BEGIN QUESTION -->\n",
    "\n",
    "***\n",
    "**<span style=\"color:blue\">Question 1.3</span>** **<span style=\"color:red\">(1 mark)</span>**   \n",
    "\n",
    "Examine the plot produced in **Question 1.2**.  Because we're collaborating with the rest of the PHYS 121 class, we must have confindence in the data full data set before proceeding with the analysis.  The same thing happens in research.  Different lab groups might will often collaborate and share complementary data in order to gain a better understanding of whatever it is that they're studying. \n",
    "\n",
    "Are there any data points in the scatter plot that you feel should be removed?  If so, use the cell below to indicate which data points you feel need to be removed and provide a justification."
   ]
  },
  {
   "cell_type": "markdown",
   "id": "8ed40d65",
   "metadata": {},
   "source": [
    "***\n",
    "**<span style=\"color:blue\">Answer 1.3:</span>**\n",
    "\n",
    "[//]: # (Please do not delete this comment or anything above it.  Anything below this comment can be deleted.)  \n",
    "\n",
    "Double click this cell and enter your text here.  When done, hit 'Shift' + 'Enter' to execute the cell.  You may delete this text when entering your answer. "
   ]
  },
  {
   "cell_type": "markdown",
   "id": "7a6cefc0",
   "metadata": {
    "deletable": false,
    "editable": false,
    "tags": []
   },
   "source": [
    "<!-- END QUESTION -->\n",
    "\n",
    "<!-- BEGIN QUESTION -->\n",
    "\n",
    "***\n",
    "**<span style=\"color:blue\">Question 1.4</span>** **<span style=\"color:red\">(1 mark)</span>** \n",
    "\n",
    "The cell below shows how to remove specific rows from the 'Lab4Data' DataFrame.\n",
    "\n",
    "Replace the ... in the cell below with a list of row numbers to be dropped.  The row numbers are identified by the number in the left-most column of the DataFrame. If there are multiple rows to be dropped, each number should be separated by a comma.  For example, if one wished to drop rows $3$ and $7$, the syntax would be:\n",
    "```python\n",
    "rows_to_drop = [3, 7]\n",
    "Lab4Data.drop(labels = rows_to_drop, axis = 0, inplace = True)\n",
    "```\n",
    "Note that the first row is row $0$.\n",
    "\n",
    "If there are no rows to drop (the ideal case), then simply delete the ... and enter nothing between the square brackets, as in:\n",
    "```python\n",
    "rows_to_drop = []\n",
    "Lab4Data.drop(labels = rows_to_drop, axis = 0, inplace = True)\n",
    "```\n",
    "\n",
    "If you accidentally drop a row that you want to keep, simply go back to the cell that was used to load the data from the csv file into the original DataFrame and re-execute that cell (and all of the cells that follow it).\n",
    "\n",
    "*** Please do not change any of the variable names in the cell below ***"
   ]
  },
  {
   "cell_type": "code",
   "execution_count": null,
   "id": "1af92330",
   "metadata": {
    "tags": []
   },
   "outputs": [],
   "source": [
    "# 'Lab4Data' DataFrame BEFORE droping rows.\n",
    "print(\"'Lab4Data' DataFrame BEFORE droping rows.\")\n",
    "display(Lab4Data)\n",
    "\n",
    "rows_to_drop = [...] # Replace the ... with the list of rows to drop.\n",
    "Lab4Data.drop(labels = rows_to_drop, axis = 0, inplace = True)\n",
    "\n",
    "# 'Lab4Data' DataFrame AFTER droping rows.\n",
    "print(\"'Lab4Data' DataFrame AFTER droping rows.\")\n",
    "display(Lab4Data)"
   ]
  },
  {
   "cell_type": "markdown",
   "id": "fdf31bc8",
   "metadata": {
    "deletable": false,
    "editable": false,
    "tags": []
   },
   "source": [
    "<!-- END QUESTION -->\n",
    "\n",
    "<!-- BEGIN QUESTION -->\n",
    "\n",
    "***\n",
    "**<span style=\"color:blue\">Question 1.5</span>** **<span style=\"color:red\">(1 mark)</span>** \n",
    "\n",
    "Next, use the 'PowerLaw()' function from PHYS121.py to plot $R_\\mathrm{H}$ as a function of $1/d$ and fit the data to a power-law.  Include uncertainties in $R_\\mathrm{H}$. \n",
    "\n",
    "The 'PowerLaw()' function is called as follows:\n",
    "```python\n",
    "import PHYS121\n",
    "A, N, C, dA, dN, dC, fig = PHYS121.PowerLaw(xData = x, yData = y, yErrors = erry, xlabel = 'x', ylabel = 'y', xUnits ='s', yUnits = 'm')\n",
    "```\n",
    "For additional information about the 'PowerLaw' function, see **Appendix B** near the end of this notebook. \n",
    "\n",
    "*** Please do not change any of the variable names in the cell below ***"
   ]
  },
  {
   "cell_type": "code",
   "execution_count": null,
   "id": "aef470a1",
   "metadata": {
    "tags": []
   },
   "outputs": [],
   "source": [
    "A, N, C, dA, dN, dC, fig2 = PHYS121.PowerLaw(xData = ..., \n",
    "                                            yData = ..., \n",
    "                                            yErrors = ..., \n",
    "                                            xlabel = \"1/d\", \n",
    "                                            ylabel = \"R_H\", \n",
    "                                            xUnits = \"1/mm\", \n",
    "                                            yUnits = \"kg/m^4s\")"
   ]
  },
  {
   "cell_type": "markdown",
   "id": "65fb378b",
   "metadata": {
    "deletable": false,
    "editable": false,
    "tags": []
   },
   "source": [
    "<!-- END QUESTION -->\n",
    "\n",
    "***\n",
    "**<span style=\"color:blue\">Question 1.6</span>** **<span style=\"color:red\">(1 mark)</span>**  \n",
    "\n",
    "Based on your experimental determination of $N\\pm \\Delta N$, what would happen to the hydraulic resistance of a Teflon tube if its inner diameter was doubled?\n",
    "\n",
    "(a) The resistance would increase by a factor of 16.  \n",
    "(b) The resistance would increase by a factor of 8.  \n",
    "(c) The resistance would increase by a factor of 4.  \n",
    "(d) The resistance would increase by a factor of 2.  \n",
    "(e) The resistance would remain unchanged.  \n",
    "(f) The resistance would decrease by a factor of 2.  \n",
    "(g) The resistance would decrease by a factor of 4.  \n",
    "(h) The resistance would decrease by a factor of 8.  \n",
    "(i) The resistance would decrease by a factor of 16.  "
   ]
  },
  {
   "cell_type": "markdown",
   "id": "aba085e2",
   "metadata": {
    "deletable": false,
    "editable": false,
    "tags": []
   },
   "source": [
    "***\n",
    "**<span style=\"color:blue\">Answer 1.6:</span>**\n",
    "\n",
    "Replace the ... in the cell below with your answer.  Your answer should be a single character (a, b, c, d, e, f, g, h, or i) between single or double quotes.  \n",
    "\n",
    "For this question, grader.check() only checks that a valid response has been entered.  It does **not** check if the correct response has been entered. \n",
    "\n",
    "*** Please do not change anything to the left of the equals sign. ***"
   ]
  },
  {
   "cell_type": "code",
   "execution_count": null,
   "id": "de23ac97",
   "metadata": {
    "tags": []
   },
   "outputs": [],
   "source": [
    "a1_6 = ..."
   ]
  },
  {
   "cell_type": "code",
   "execution_count": null,
   "id": "6ad664ac",
   "metadata": {
    "deletable": false,
    "editable": false
   },
   "outputs": [],
   "source": [
    "grader.check(\"q1.6\")"
   ]
  },
  {
   "cell_type": "markdown",
   "id": "f4147084",
   "metadata": {
    "deletable": false,
    "editable": false,
    "tags": []
   },
   "source": [
    "<!-- BEGIN QUESTION -->\n",
    "\n",
    "***\n",
    "**<span style=\"color:blue\">Question 1.7</span>** **<span style=\"color:red\">(2 marks)</span>**   \n",
    "\n",
    "Examine the plot and fit from **Question 1.5** for hydraulic resistance ($R_\\mathrm{H}$ vs $1/d$) and compare it to Fig. 1, which is the equivalent plot and fit for electric resistance ($R$ vs $1/d$).  Identify at least two differences between these plots/fits."
   ]
  },
  {
   "cell_type": "markdown",
   "id": "95818412",
   "metadata": {},
   "source": [
    "***\n",
    "**<span style=\"color:blue\">Answer 1.7:</span>**\n",
    "\n",
    "[//]: # (Please do not delete this comment or anything above it.  Anything below this comment can be deleted.)  \n",
    "\n",
    "Double click this cell and enter your text here.  When done, hit 'Shift' + 'Enter' to execute the cell.  You may delete this text when entering your answer. "
   ]
  },
  {
   "cell_type": "markdown",
   "id": "ef780933",
   "metadata": {
    "deletable": false,
    "editable": false,
    "tags": []
   },
   "source": [
    "<!-- END QUESTION -->\n",
    "\n",
    "# <div style=\"background-color:rgba(255, 204, 255, 0.5); text-align:center; vertical-align: middle; padding:40px 0; margin-top:30px\"><span style=\"color:rgba(102, 0, 204, 1);\">Part 2 - $\\log(R_\\mathrm{H})$ vs $\\log(1/d)$ (30 minutes)</span></div>\n",
    "\n",
    "\n",
    "From the plot in **Question 1.5**, you may have noticed at its difficult to resolve how $R_\\mathrm{H}$ varies for small values of $1/d$.  This happens because the hydraulic resistance at the largest values of $d$ are more than $1000$ times smaller than the corresponding values at the smallest diameters. When plotting data that span such a large range of values (i.e. many orders of magnitude), it is often convenient to view the data using logarithmic scales.\n",
    "\n",
    "In a regular linear plot, the difference in $x$ or $y$ values between neighbouring tick marks along an axis are always equal.  Figure 2 below reproduces plot of $R$ versus $1/d$ for electrical resistance.\n",
    "\n",
    "<p>\n",
    "<center>\n",
    "<img src=\"https://raw.githubusercontent.com/UBC-Okanagan-Physics-Labs/PHYS-121-images/main/Lab-5/images/R-vs-d_inv.png\" alt=\"image info\" style=\"width: 45%; height: auto;\" /><br>\n",
    "<b>Fig. 2: Typical electrical resistance versus $1/d$ data from Lab #4 plotted on a linear scale.</b></center>\n",
    "</p>\n",
    "\n",
    "The distance between neighbouring tick marks along the $x$-axis is always $1\\rm\\ mm^{-1}$ and the distance between neighbouring tick marks along the $y$-axis is always $5\\rm\\ \\Omega$.  \n",
    "\n",
    "On a plot of $\\log y$ versus $\\log x$, it is the ratio of neighbouring $x$ and $y$ values that remains fixed.  For example, Fig. 3 below uses the same data from Fig. 2, but plots $\\log(R)$ versus $\\log(1/d)$.\n",
    "\n",
    "<p>\n",
    "<center>\n",
    "<img src=\"https://raw.githubusercontent.com/UBC-Okanagan-Physics-Labs/PHYS-121-images/main/Lab-5/images/logR-vs-logd_inv.png\" alt=\"image info\" style=\"width: 45%; height: auto;\" /><br>\n",
    "<b>Fig. 3: The same data from Fig. 2 plotted as $\\log(R)$ versus $\\log(1/d)$.</b></center>\n",
    "</p>\n",
    "\n",
    "This time, the difference between tick points along the vertical axis is always $0.2$.  This implies that:\n",
    "\n",
    "\\begin{align}\n",
    "\\log(R_2) - \\log(R_1) = 0.2\n",
    "\\label{eq:difference} \\tag{1}\n",
    "\\end{align}\n",
    "\n",
    "where $R_2$ and $R_1$ correspond to the resistance values at any two neighbouring tick marks along the vertical axis.  For this argument, we assume that $R_2 > R_1$.  For example, $\\log(R_1)$ and $\\log(R_2)$ could correspond to $0.4$ and $0.6$, respectively.  Because $\\log A - \\log B = \\log(A/B)$, Eq. (1) can be re-expressed as:\n",
    "\n",
    "\\begin{align}\n",
    "\\log\\left(\\frac{R_2}{R_1}\\right) = 0.2\n",
    "\\label{eq:log} \\tag{2}\n",
    "\\end{align}\n",
    "\n",
    "Solving Eq. (2) for $R_2/R_1$ yields:\n",
    "\n",
    "\\begin{align}\n",
    "\\frac{R_2}{R_1} = 10^{0.2} = 1.585\n",
    "\\label{eq:ratio} \\tag{3}\n",
    "\\end{align}\n",
    "\n",
    "Thus, in Fig. 2, each tick along the vertical axes corresponds to a change in resistance by a factor of $1.585$.  Advancing by $N$ tick marks corresponds to a change in resistance by a factor of $(1.585)^N$."
   ]
  },
  {
   "cell_type": "markdown",
   "id": "11fa4646",
   "metadata": {
    "deletable": false,
    "editable": false,
    "tags": []
   },
   "source": [
    "***\n",
    "**<span style=\"color:blue\">Question 2.1</span>** **<span style=\"color:red\">(1 mark)</span>**  \n",
    "\n",
    "In Fig. 3, the tick makes along the horizontal axis imply that $\\log(1/d_2) - \\log(1/d_1) = 0.1$.  Determine the ratio of $d_2/d_1$.\n",
    "\n",
    "(a) $d_2/d_1 = 0.100$  \n",
    "(b) $d_2/d_1 = 0.631$  \n",
    "(c) $d_2/d_1 = 0.794$  \n",
    "(d) $d_2/d_1 = 1.26$   \n",
    "(e) $d_2/d_1 = 1.59$    \n",
    "(f) $d_2/d_1 = 10.0$"
   ]
  },
  {
   "cell_type": "markdown",
   "id": "a2be5e03",
   "metadata": {
    "deletable": false,
    "editable": false,
    "tags": []
   },
   "source": [
    "***\n",
    "**<span style=\"color:blue\">Answer 2.1:</span>**\n",
    "\n",
    "Replace the ... in the cell below with your answer.  Your answer should be a single character (a, b, c, d, e, or f) between single or double quotes.  \n",
    "\n",
    "For this question, grader.check() only checks that a valid response has been entered.  It does **not** check if the correct response has been entered. \n",
    "\n",
    "\n",
    "*** Please do not change anything to the left of the equals sign. ***"
   ]
  },
  {
   "cell_type": "code",
   "execution_count": null,
   "id": "4dc14c24",
   "metadata": {
    "tags": []
   },
   "outputs": [],
   "source": [
    "a2_1 = ..."
   ]
  },
  {
   "cell_type": "code",
   "execution_count": null,
   "id": "45170e1d",
   "metadata": {
    "deletable": false,
    "editable": false
   },
   "outputs": [],
   "source": [
    "grader.check(\"q2.1\")"
   ]
  },
  {
   "cell_type": "markdown",
   "id": "b5513d19",
   "metadata": {
    "deletable": false,
    "editable": false,
    "tags": []
   },
   "source": [
    "***\n",
    "Next, go back and compare Figs. 2 and 3 which display identical datasets.  Plotted on a linear scale (Fig. 2), the $R$ versus $1/d$ data exhibit a quadratic dependence.  On the other hand, when plotted as $\\log(R)$ versus $\\log(1/d)$, the data look linear.  Let's try to figure out why the log-log plot looks linear.\n",
    "\n",
    "The fit in Fig. 2 implies that:\n",
    "\n",
    "$$\n",
    "R=A\\left(\\frac{1}{d}\\right)^N\n",
    "\\tag{4}\n",
    "$$\n",
    "\n",
    "where the $+~C$ term has been omitted because, as observed earlier, it's fit value was zero within experimental uncertainty.  If we take the logarithm of both sides of Eq. (4), we get:\n",
    "\n",
    "\\begin{align}\n",
    "\\log(R) &= \\log\\left[A\\left(\\frac{1}{d}\\right)^N\\right]\\\\\n",
    "& = \\log(A) + \\log\\left[\\left(\\frac{1}{d}\\right)^N\\right]\\\\\n",
    "\\therefore \\log(R) & = N\\log\\left(\\frac{1}{d}\\right) + \\log(A)\n",
    "\\tag{5}\n",
    "\\end{align}\n",
    "\n",
    "Notice that Eq. (5) is of the form of a straight line, $y = mx + b$, where:\n",
    "\n",
    "\\begin{align}\n",
    "y & = \\log(R)\\\\\n",
    "m &= N\\\\\n",
    "x & = \\log\\left(\\frac{1}{d}\\right)\\\\\n",
    "b &= \\log(A)\n",
    "\\end{align}\n",
    "\n",
    "In other words, when data that obey a power law ($p = Aq^N$) are plotted as $\\log(p)$ versus $\\log(q)$, a linear trend will be observed and the slope will give the value of the power $N$ and the intercept will be equal to $\\log(A)$ (i.e. the intercept can be used to find the value of the coefficient $A$). \n",
    "\n",
    "### Summary\n",
    "\n",
    "So-called log-log plots can be useful in two distinct situations:\n",
    " - When the data span many orders of magnitude (along either the horizontal or vertical axes, or both), log-log plots allow us to see details in the data that can be hidden in linear plots.\n",
    " - When the measured data are expected to follow a power law ($p = Aq^N$), log-log plots will produce a linear dataset whose slope is equal to the power $N$ and whose intercept is equal to $\\log(A)$.\n",
    "\n",
    "The hydraulic resistance data collected in Lab #4 span over three orders of magnitude and, from **Question 1.5**, we know that $R_\\mathrm{H}$ versus $1/d$ follow a power law.  Therefore, the $R_\\mathrm{H}$ versus $1/d$ data from Lab #4 are ideally suited for an analysis of the form $\\log(R_\\mathrm{H})$ versus $\\log(1/d)$."
   ]
  },
  {
   "cell_type": "markdown",
   "id": "ae643862",
   "metadata": {
    "deletable": false,
    "editable": false,
    "tags": []
   },
   "source": [
    "<!-- BEGIN QUESTION -->\n",
    "\n",
    "***\n",
    "**<span style=\"color:blue\">Question 2.2</span>** **<span style=\"color:red\">(1 mark)</span>** \n",
    "\n",
    "Use the 'Scatter()' function from PHYS121.py to plot $\\log(R_\\mathrm{H})$ as a function of $\\log(1/d)$.  \n",
    "\n",
    "The calculation of the uncertainty in $\\log(R_\\mathrm{H})$ is not easily done using the propogation of uncertainty rules that you learned in PHYS 111.  For this reason, the calculation of the uncertainty in $\\log(R_\\mathrm{H})$ has been done for you.  (If you're interested, the uncertainty calculation makes use of the facts that: (1) $\\log(y) = \\ln(y)/\\ln(10)$ and (2) if $z=\\ln(y)$, then $\\Delta z = \\Delta y/y$.)\n",
    "\n",
    "**REMEMBER** that in Python $\\log(x)$ must be entered as:\n",
    "```python\n",
    "np.log10(x)\n",
    "```\n",
    "\n",
    "Fill in the missing data needed when calling the 'Scatter()' function.  Remember that the scatter function accepts arrays or lists as inputs - to call a column from a DataFrame as a list, use the syntax\n",
    "```python\n",
    "df[\"Column Name\"]\n",
    "```\n",
    "where 'df' is the name of the DataFrame in question. For additional information about the 'Scatter()' function, see **Appendix A** near the end of this notebook.   \n",
    " \n",
    " *** Please do not change any of the variable names in the cell below ***"
   ]
  },
  {
   "cell_type": "code",
   "execution_count": null,
   "id": "c682f716",
   "metadata": {
    "tags": []
   },
   "outputs": [],
   "source": [
    "fig3 = PHYS121.Scatter(xData = ..., \n",
    "                        yData = ..., \n",
    "                        yErrors = Lab4Data[\"RH_uncertainty\"]/(Lab4Data[\"RH\"]*np.log(10)), \n",
    "                        xlabel = \"log(1/d)\", \n",
    "                        ylabel = \"log(R_H)\")"
   ]
  },
  {
   "cell_type": "markdown",
   "id": "706edca1",
   "metadata": {
    "deletable": false,
    "editable": false,
    "tags": []
   },
   "source": [
    "<!-- END QUESTION -->\n",
    "\n",
    "***\n",
    "Compared to the scatter plot of **Question 1.2**, the plot above should allow you to better see the details of the data at small values of $1/d$.  In **Question 1.3**, you were asked if there were any questionable data points that should be removed before completing the rest of the analysis.  Now that we're using a log-log plot and you can see the details of all the measured data, re-evaluate if any points should be removed (ideally the answer is still \"No, all of the data follow the same general treand\").  If there are any points that you think should be removed, return to **Questions 1.3** and **1.4**, adjust your answers, and then re-exectute those cells and all of the cells that follow.  "
   ]
  },
  {
   "cell_type": "markdown",
   "id": "153bf494",
   "metadata": {
    "deletable": false,
    "editable": false,
    "tags": []
   },
   "source": [
    "<!-- BEGIN QUESTION -->\n",
    "\n",
    "***\n",
    "**<span style=\"color:blue\">Question 2.3</span>** **<span style=\"color:red\">(1 mark)</span>** \n",
    "\n",
    "Use the 'LinearFit()' function from PHYS121.py to plot $\\log(R_\\mathrm{H})$ versus $\\log(1/d)$ and fit the data to a straight line.  \n",
    "\n",
    "Again, the calculation of the uncertainty in $\\log(R_\\mathrm{H})$ has already been done for you.\n",
    "\n",
    "**REMEMBER** that in Python $\\log(x)$ must be entered as:\n",
    "```python\n",
    "np.log10(x)\n",
    "```\n",
    "\n",
    "Fill in the missing data needed when calling the 'LinearFit()' function.  Remember that the 'LinearFit()' function accepts arrays or lists as inputs - to call a column from a DataFrame as a list, use the syntax:\n",
    "```python\n",
    "df[\"Column Name\"]\n",
    "```\n",
    "where 'df' is the name of the DataFrame in question. For additional information about the 'LinearFit()' function, see **Appendix C** near the end of this notebook.   \n",
    " \n",
    " *** Please do not change any of the variable names in the cell below ***"
   ]
  },
  {
   "cell_type": "code",
   "execution_count": null,
   "id": "9114c4e0",
   "metadata": {
    "tags": []
   },
   "outputs": [],
   "source": [
    "fig4 = PHYS121.LinearFit(xData = ..., \n",
    "                        yData = ..., \n",
    "                        yErrors = Lab4Data[\"RH_uncertainty\"]/(Lab4Data[\"RH\"]*np.log(10)), \n",
    "                        xlabel = \"log(1/d)\", \n",
    "                        ylabel = \"log(R_H)\")"
   ]
  },
  {
   "cell_type": "markdown",
   "id": "be47a354",
   "metadata": {
    "deletable": false,
    "editable": false,
    "tags": []
   },
   "source": [
    "<!-- END QUESTION -->\n",
    "\n",
    "<!-- BEGIN QUESTION -->\n",
    "\n",
    "***\n",
    "**<span style=\"color:blue\">Question 2.4</span>** **<span style=\"color:red\">(1 mark)</span>**   \n",
    "\n",
    "From the fit above, what is the value of the power $N$ that determines how the hydraulic resistance depends of the inverse of the inner diameter of the Teflon tubes: $R_\\mathrm{H} = A(1/d)^N$?  How does this value compare to the value obtained in **Question 1.5**?  If there are differences, think about and describe what might be causing the difference in the two values of $N$. "
   ]
  },
  {
   "cell_type": "markdown",
   "id": "535fcdf7",
   "metadata": {},
   "source": [
    "***\n",
    "**<span style=\"color:blue\">Answer 2.4:</span>**\n",
    "\n",
    "[//]: # (Please do not delete this comment or anything above it.  Anything below this comment can be deleted.)  \n",
    "\n",
    "Double click this cell and enter your text here.  When done, hit 'Shift' + 'Enter' to execute the cell.  You may delete this text when entering your answer. "
   ]
  },
  {
   "cell_type": "markdown",
   "id": "bca937c8",
   "metadata": {
    "deletable": false,
    "editable": false,
    "tags": []
   },
   "source": [
    "<!-- END QUESTION -->\n",
    "\n",
    "# <div style=\"background-color:rgba(255, 204, 255, 0.5); text-align:center; vertical-align: middle; padding:40px 0; margin-top:30px\"><span style=\"color:rgba(102, 0, 204, 1);\">Part 3 - Hydraulic Capacitance (60 minutes)</span></div>\n",
    "\n",
    "Recall from Lab #4 the analogy between electric and hydraulic circuits as summarized in the table below:\n",
    "\n",
    "| <div style=\"width:150px\">electric</div> | <div style=\"width:50px\">&nbsp;</div> | <div style=\"width:190px\">hydraulic</div> |\n",
    "| --: | :-: | :-- |\n",
    "charge: $q\\rm\\ [C]$ | $\\Longleftrightarrow$ | volume: $v\\rm\\ [m^3]$\n",
    "current: $ I = dq/dt\\rm\\ [A = C/s]$ | $\\Longleftrightarrow$ | volume flow rate: $Q = dv/dt\\rm\\ [m^3/s]$\n",
    "voltage: $\\Delta V\\rm\\ [V]$ | $\\Longleftrightarrow$ | pressure: $\\Delta P\\rm\\ [Pa = N/m^2]$\n",
    "resistance: $R=\\Delta V/I\\rm\\ [\\Omega = V/A]$ | $\\Longleftrightarrow$ | hydraulic resistance: $R_\\mathrm{H}=\\Delta P/Q\\rm\\ [kg/m^4 s]$\n",
    "\n",
    "We now want to build on this analogy by including capacitance.  In electric circuits, capacitance is defined by:\n",
    "\n",
    "$$\n",
    "C = \\frac{q}{\\Delta V}\n",
    "\\tag{6}\n",
    "$$\n",
    "\n",
    "where $q$ is the charge stored by the capacitor and the $\\Delta V$ is the voltage difference across the capacitor.\n",
    "\n",
    "For the hydraulic analogue, our capacitor $C_\\mathrm{H}$ will store a volume $v$ of water and there will be a pressure difference $\\Delta P$ across the capacitor.  Therefore, hydraulic capacitance is defined by:\n",
    "\n",
    "$$\n",
    "C_\\mathrm{H} = \\frac{v}{\\Delta P}\n",
    "\\tag{7}\n",
    "$$\n",
    "\n",
    "An analysis of the units reveals that hydraulic capacitance is measured in units of $[C_\\mathrm{H}] =\\rm\\ m^4 s^2/kg$.\n",
    "\n",
    "An electric capacitor can be charged using a battery, resistor, and switch as shown in Fig. 4(a) below.\n",
    "\n",
    "<p>\n",
    "<center>\n",
    "<img src=\"https://raw.githubusercontent.com/UBC-Okanagan-Physics-Labs/PHYS-121-images/main/Lab-5/images/charging.png\" alt=\"image info\" style=\"width: 75%; height: auto;\" /><br>\n",
    "    <b>Fig. 4: (a) Charging an electric capacitor using a battery, resistor, and switch. (b) The analogous charging of a hydraulic capacitor using a source of constant pressure (hydraulic battery), a narrow tube (hydraulic resistance), and valve.</b></center>\n",
    "</p>\n",
    "\n",
    "A schematic diagram of the hydraulic analogue that we'll use in today's lab is shown in Fig. 4(b).  The same water vessel will be used to provide an approximately constant pressure difference and you'll use the same Teflon tubes that used in Lab #4 as hydraulic resistors.  The station you're working at should have the same size tubes that you used in the last lab.  Confirm that the diameters of tubes match the diameters that you used in Lab #4.  If they don't match, let your TA know.  For our hydraulic capacitor, we'll use a glass tube.  The inner diameter of the glass tube is much larger than the inner diameters of Teflon tubes, so it doesn't offer much resistance to the flow of water. We'll assume that the resistance of our hydraulic capacitors are negligible.  Figure 5 shows a schematic of a hydraulic capacitor \"charged\" with a volume $v$ of water.\n",
    "\n",
    "<p>\n",
    "<center>\n",
    "<img src=\"https://raw.githubusercontent.com/UBC-Okanagan-Physics-Labs/PHYS-121-images/main/Lab-5/images/CH.png\" alt=\"image info\" style=\"width: 12%; height: auto;\" /><br>\n",
    "    <b>Fig. 5: A hydraulic capacitor of cross-sectional area $A$ filled with water to a height of $\\Delta h$.</b></center>\n",
    "</p>\n",
    "\n",
    "If the height of the water is $\\Delta h$ and the hydraulic capacitor has a cross-sectional area $A=\\pi r^2$, where $r$ is the inner radius of the tube, then the volume of water stored is $v = \\pi r^2\\Delta h$ and the pressure difference between the top and bottom surfaces of the water is $\\Delta P = \\rho g \\Delta h$, where $\\rho = 998\\rm\\ kg/m^3$ is the density of water and $g = 9.81\\rm\\ m/s^2$ is the gravitational acceleration.  Subbing these expression into the definition of hydraulic capacitance reveals that:\n",
    "\n",
    "$$\n",
    "C_\\mathrm{H} = \\frac{v}{\\Delta P} = \\frac{\\pi r^2 \\Delta h}{\\rho g \\Delta h} = \\frac{\\pi r^2}{\\rho g}\n",
    "\\tag{8}\n",
    "$$\n",
    "\n",
    "which allows us to calculate the hydraulic capacitance of the glass tube in terms of constants that we know.\n",
    "\n",
    "In class we showed that, for a capacitor $C$ charging through a resistor $R$, the stored charge evolves with time as:\n",
    "\n",
    "$$\n",
    "q(t) = q_\\infty\\left(1 - e^{-t/\\tau}\\right)\n",
    "\\tag{9}\n",
    "$$\n",
    "\n",
    "where $q_\\infty$ is the equilibrium charge on the capacitor after the switch has been closed for a long time (i.e. $t\\to\\infty$) and $\\tau = RC$ is a time constant which determines how quickly the capacitor charges/discharges.  The capacitor charges to $95\\%$ of its full charge ($q_\\infty$) in a time $t = 3\\tau$.  \n",
    "\n",
    "The volume of water stored in a hydraulic capacitor follows the same trend:\n",
    "\n",
    "$$\n",
    "v(t) = v_\\infty\\left(1 - e^{-t/\\tau_\\mathrm{H}}\\right)\n",
    "$$\n",
    "\n",
    "where the hydraulic time constant is given by $\\tau_\\mathrm{H} = R_\\mathrm{H} C_\\mathrm{H}$.  Because volume is directly proportional to the height of the water column in the hydraulic capacitor, it is also true that:\n",
    "\n",
    "$$\n",
    "h(t) = h_\\infty\\left(1 - e^{-t/\\tau_\\mathrm{H}}\\right)\n",
    "\\tag{10}\n",
    "$$\n",
    "\n",
    "\n",
    "For this part of the lab:\n",
    " - You will first set up the hydraulic circuit shown in Fig. 4(b).  \n",
    " - With the hydraulic capacitor initially uncharged (empty), you will open the valve and record the height $h(t)$ of the water filling the hydraulic capacitor as a function of time.  \n",
    " - You will then fit the data to Eq. (9) in order to determine the time constant $\\tau_\\mathrm{H} = R_\\mathrm{H} C_\\mathrm{H}$ of the hydraulic circuit.\n",
    " - Using the know value of $R_\\mathrm{H}$ from Lab #4, you will determine the hydraulic capacitance $C_\\mathrm{H}$ from the measured time constant.\n",
    " - Finally, you will compare the experimentally-determined value of $C_\\mathrm{H}$ to the expected value given by Eq. (8).\n",
    " - You will do all of these steps for both of the hydraulic resistors at your station.\n",
    " \n",
    "Here, once again, is a summary of the analogy between electric and hydraulic circuits.  The last three rows of the table below have been added to include capacitance and the time constant.   In the second-to-last row, $d$ is the separation distance between a pair of parallel plates of area $A$. \n",
    "\n",
    "| <div style=\"width:150px\">electric</div> | <div style=\"width:50px\">&nbsp;</div> | <div style=\"width:190px\">hydraulic</div> |\n",
    "| --: | :-: | :-- |\n",
    "charge: $q\\rm\\ [C]$ | $\\Longleftrightarrow$ | volume: $v\\rm\\ [m^3]$\n",
    "current: $ I = dq/dt\\rm\\ [A = C/s]$ | $\\Longleftrightarrow$ | volume flow rate: $Q = dv/dt\\rm\\ [m^3/s]$\n",
    "voltage: $\\Delta V\\rm\\ [V]$ | $\\Longleftrightarrow$ | pressure: $\\Delta P\\rm\\ [Pa = N/m^2]$\n",
    "resistance: $R=\\Delta V/I\\rm\\ [\\Omega = V/A]$ | $\\Longleftrightarrow$ | hydraulic resistance: $R_\\mathrm{H}=\\Delta P/Q\\rm\\ [kg/m^4 s]$\n",
    "capacitance: $C=Q/\\Delta V\\rm\\ [F = C/V]$ | $\\Longleftrightarrow$ | hydraulic capacitance: $C_\\mathrm{H}=v/\\Delta P\\rm\\ [m^4s^2/kg]$\n",
    "parallel-plate capacitor: $C=\\varepsilon_0A/d\\rm\\ [F = C/V]$ | $\\Longleftrightarrow$ | hydraulic tube capacitor: $C_\\mathrm{H}=\\pi r^2/(\\rho g)\\rm\\ [m^4s^2/kg]$\n",
    "time constant: $\\tau = RC\\rm\\ [s]$ | $\\Longleftrightarrow$ | hydraulic time constant: $\\tau_\\mathrm{H} = R_\\mathrm{H}C_\\mathrm{H}\\rm\\ [s]$"
   ]
  },
  {
   "cell_type": "markdown",
   "id": "dafcfae3",
   "metadata": {
    "deletable": false,
    "editable": false,
    "tags": []
   },
   "source": [
    "<!-- BEGIN QUESTION -->\n",
    "\n",
    "***\n",
    "**<span style=\"color:blue\">Question 3.1</span>** **<span style=\"color:red\">(1 mark)</span>**  \n",
    "\n",
    "(i) For the first Teflon tube, collect $h(t)$ versus $t$ data (in *centimeters* and *seconds*, respectively) and enter the measurements into the \"tube1\" DataFrame below.  It is best if you wait long enough for the hydraulic capacitor to fully charge (i.e. until the water level in the glass tube is no longer increasing).  You'll have to determine yourself how long is long enough.  Collect at least $15$ data points.\n",
    "\n",
    "(ii) Enter your Teflon tube's diameter (in *milimeters*) in the \"tube1_diameter\" variable below.\n",
    "\n",
    "(iii) Return to the [Google Sheets document](https://docs.google.com/spreadsheets/d/1BCeJboA1V6BY9LYW8Yyb8QwEOUXmWDtQglrZTukf02c/edit?usp=sharing) used at the end of Lab #4.  Use this sheet to enter in the hydraulic resistance (and its uncertainty) that you found for this diameter of Teflon tube. \n",
    "\n",
    "*** Please do not change any of the variable names in the cell below ***"
   ]
  },
  {
   "cell_type": "code",
   "execution_count": null,
   "id": "50d91a2a",
   "metadata": {
    "tags": []
   },
   "outputs": [],
   "source": [
    "# Tube 1 DataFrame\n",
    "tube1_diameter = ... # mm\n",
    "RH1 = ...\n",
    "dRH1 = ...\n",
    "tube1 = pd.DataFrame({\"time\" : [...],\n",
    "                      \"height\" : [...]\n",
    "                      })\n",
    "print(f\"Results for tube with diameter {tube1_diameter} mm:\")\n",
    "tube1"
   ]
  },
  {
   "cell_type": "code",
   "execution_count": null,
   "id": "7638c1f3",
   "metadata": {
    "deletable": false,
    "editable": false
   },
   "outputs": [],
   "source": [
    "grader.check(\"q3.1\")"
   ]
  },
  {
   "cell_type": "markdown",
   "id": "610c6589",
   "metadata": {
    "deletable": false,
    "editable": false,
    "tags": []
   },
   "source": [
    "<!-- END QUESTION -->\n",
    "\n",
    "<!-- BEGIN QUESTION -->\n",
    "\n",
    "***\n",
    "**<span style=\"color:blue\">Question 3.2</span>** **<span style=\"color:red\">(1 mark)</span>**  \n",
    "\n",
    "Create a scatter plot of the water height in the hydraulic capacitor versus time along with appropriate axis labels, with units, for tube 1.\n",
    "\n",
    "For additional information about the 'Scatter' function, refer to **Appendix A** near the end of this notebook.\n",
    "\n",
    " *** Please do not change any of the variable names in the cell below ***"
   ]
  },
  {
   "cell_type": "code",
   "execution_count": null,
   "id": "d4c73e32",
   "metadata": {
    "tags": []
   },
   "outputs": [],
   "source": [
    "fig5 = PHYS121.Scatter( xData = ...,\n",
    "                        yData = ..., \n",
    "                        xlabel = \"Time\", \n",
    "                        xUnits = \"s\", \n",
    "                        ylabel = \"Height\", \n",
    "                        yUnits = \"cm\") "
   ]
  },
  {
   "cell_type": "markdown",
   "id": "5024c820",
   "metadata": {
    "deletable": false,
    "editable": false,
    "tags": []
   },
   "source": [
    "<!-- END QUESTION -->\n",
    "\n",
    "<!-- BEGIN QUESTION -->\n",
    "\n",
    "***\n",
    "**<span style=\"color:blue\">Question 3.3</span>** **<span style=\"color:red\">(1 mark)</span>**  \n",
    "\n",
    "Fit the data for tube 1 to a function of the form:\n",
    "$$\n",
    "h(t)=h_\\infty\\left(1 - e^{-t/\\tau_\\mathrm{H}}\\right)\n",
    "$$\n",
    "\n",
    "which is a copy of Eq. (9) above.  The 'Charging()' function from PHYS121.py will be used to plot $h(t)$ as a function of $t$ and fit the data.  \n",
    "\n",
    "The 'Charging()' function is called as follows:\n",
    "```python\n",
    "import PHYS121\n",
    "A, tau, dA, dtau, fig = PHYS121.PowerLaw(xData = x, yData = y, yErrors = erry, xlabel = 'x', ylabel = 'y', xUnits ='s', yUnits = 'm')\n",
    "```\n",
    "\n",
    "For the fits in this part of the lab, we will neglect the uncertainty in the $h(t)$ measurements.  For additional information about the 'Charging()' function, refer to **Appendix D** near the end of this notebook.\n",
    "\n",
    " *** Please do not change any of the variable names in the cell below ***"
   ]
  },
  {
   "cell_type": "code",
   "execution_count": null,
   "id": "3194eb78",
   "metadata": {
    "tags": []
   },
   "outputs": [],
   "source": [
    "A1, tau1, dA1, dtau1, fig6 = PHYS121.Charging( xData = ...,\n",
    "                            yData = ..., \n",
    "                            xlabel = \"Time\", \n",
    "                            xUnits = \"s\", \n",
    "                            ylabel = \"Height\", \n",
    "                            yUnits = \"cm\") "
   ]
  },
  {
   "cell_type": "markdown",
   "id": "fd73e67e",
   "metadata": {
    "deletable": false,
    "editable": false,
    "tags": []
   },
   "source": [
    "<!-- END QUESTION -->\n",
    "\n",
    "***\n",
    "**<span style=\"color:blue\">Question 3.4</span>** **<span style=\"color:red\">(1 mark)</span>**  \n",
    "\n",
    "Next, for the first Teflon tube, use the experimental values of $\\tau_\\mathrm{H}\\pm \\Delta \\tau_\\mathrm{H}$ and $R_\\mathrm{H}\\pm\\Delta R_\\mathrm{H}$ to determine the hydraulic capacitance $C_\\mathrm{H}\\pm\\Delta C_\\mathrm{H}$.\n",
    "\n",
    "Note that the numerical values for $\\tau_\\mathrm{H}\\pm\\Delta\\tau_\\mathrm{H}$ and $R_\\mathrm{H}\\pm\\Delta R_\\mathrm{H}$ have a already been stored in variables called: \n",
    "```python\n",
    "tau1\n",
    "dtau1\n",
    "RH1\n",
    "dRH1\n",
    "```"
   ]
  },
  {
   "cell_type": "markdown",
   "id": "126f0d92",
   "metadata": {
    "deletable": false,
    "editable": false,
    "tags": []
   },
   "source": [
    "***\n",
    "**<span style=\"color:blue\">Answer 3.4:</span>**\n",
    "\n",
    "Make use of these variables.  It is not necessary to type in the numerical values.  In the cell below, replace the instances of ... with the appropriate expression to calculate $C_\\mathrm{H}$ and $\\Delta C_\\mathrm{H}$ for the data collected using the first Teflon tube. \n",
    "\n",
    " *** Please do not change any of the variable names in the cell below ***"
   ]
  },
  {
   "cell_type": "code",
   "execution_count": null,
   "id": "8c483610",
   "metadata": {
    "tags": []
   },
   "outputs": [],
   "source": [
    "CH1 = ...\n",
    "dCH1 = ...\n",
    "print(f\"Results for tube with diameter {tube1_diameter} mm:\")\n",
    "print(f\"CH1 = ({CH1:.2e} +/- {dCH1:.2e}) m^4s^2/kg\")"
   ]
  },
  {
   "cell_type": "code",
   "execution_count": null,
   "id": "27b6c74e",
   "metadata": {
    "deletable": false,
    "editable": false
   },
   "outputs": [],
   "source": [
    "grader.check(\"q3.4\")"
   ]
  },
  {
   "cell_type": "markdown",
   "id": "a55652a0",
   "metadata": {
    "deletable": false,
    "editable": false,
    "tags": []
   },
   "source": [
    "<!-- BEGIN QUESTION -->\n",
    "\n",
    "***\n",
    "**<span style=\"color:blue\">Question 3.5</span>** **<span style=\"color:red\">(1 mark)</span>**  \n",
    "\n",
    "(i) For the second Teflon tube, collect $h(t)$ versus $t$ data (in *centimeters* and *seconds*, respectively) and enter the measurements into the \"tube2\" DataFrame below.  It is best if you wait long enough for the hydraulic capacitor to fully charge (i.e. until the water level in the glass tube is no longer increasing).  You'll have to determine yourself how long is long enough.  Collect at least $15$ data points.\n",
    "\n",
    "(ii) Enter your Teflon tube's diameter (in *milimeters*) in the \"tube2_diameter\" variable below.\n",
    "\n",
    "(iii) Return to the [Google Sheets document](https://docs.google.com/spreadsheets/d/1BCeJboA1V6BY9LYW8Yyb8QwEOUXmWDtQglrZTukf02c/edit?usp=sharing) used at the end of Lab #4.  Use this sheet to enter in the hydraulic resistance (and its uncertainty) that you found for this diameter of Teflon tube. \n",
    "\n",
    "*** Please do not change any of the variable names in the cell below ***"
   ]
  },
  {
   "cell_type": "code",
   "execution_count": null,
   "id": "fa835915",
   "metadata": {
    "tags": []
   },
   "outputs": [],
   "source": [
    "# Tube 2 DataFrame\n",
    "tube2_diameter = ... # mm\n",
    "RH2 = ...\n",
    "dRH2 = ...\n",
    "tube2 = pd.DataFrame({\"time\" : [...],\n",
    "                      \"height\" : [...]\n",
    "                      })\n",
    "print(f\"Results for tube with diameter {tube2_diameter} mm:\")\n",
    "tube2"
   ]
  },
  {
   "cell_type": "code",
   "execution_count": null,
   "id": "426fd8a6",
   "metadata": {
    "deletable": false,
    "editable": false
   },
   "outputs": [],
   "source": [
    "grader.check(\"q3.5\")"
   ]
  },
  {
   "cell_type": "markdown",
   "id": "fa52019a",
   "metadata": {
    "deletable": false,
    "editable": false,
    "tags": []
   },
   "source": [
    "<!-- END QUESTION -->\n",
    "\n",
    "<!-- BEGIN QUESTION -->\n",
    "\n",
    "***\n",
    "**<span style=\"color:blue\">Question 3.6</span>** **<span style=\"color:red\">(1 mark)</span>**  \n",
    "\n",
    "Create a scatter plot of the water height in the hydraulic capacitor versus time along with appropriate axis labels, with units, for tube 2.\n",
    "\n",
    "For additional information about the 'Scatter' function, refer to **Appendix A** near the end of this notebook.\n",
    "\n",
    " *** Please do not change any of the variable names in the cell below ***"
   ]
  },
  {
   "cell_type": "code",
   "execution_count": null,
   "id": "581dddd0",
   "metadata": {
    "tags": []
   },
   "outputs": [],
   "source": [
    "fig7 = PHYS121.Scatter( xData = ...,\n",
    "                        yData = ..., \n",
    "                        xlabel = \"Time\", \n",
    "                        xUnits = \"s\", \n",
    "                        ylabel = \"Height\", \n",
    "                        yUnits = \"cm\") "
   ]
  },
  {
   "cell_type": "markdown",
   "id": "6575d37e",
   "metadata": {
    "deletable": false,
    "editable": false,
    "tags": []
   },
   "source": [
    "<!-- END QUESTION -->\n",
    "\n",
    "<!-- BEGIN QUESTION -->\n",
    "\n",
    "***\n",
    "**<span style=\"color:blue\">Question 3.7</span>** **<span style=\"color:red\">(1 mark)</span>**  \n",
    "\n",
    "Fit the data for tube 2 to a function of the form:\n",
    "$$\n",
    "h(t)=h_\\infty\\left(1 - e^{-t/\\tau_\\mathrm{H}}\\right)\n",
    "$$\n",
    "\n",
    "which is a copy of Eq. (9) above.  The 'Charging()' function from PHYS121.py will be used to plot $h(t)$ as a function of $t$ and fit the data.  \n",
    "\n",
    "The 'Charging()' function is called as follows:\n",
    "```python\n",
    "import PHYS121\n",
    "A, tau, dA, dtau, fig = PHYS121.PowerLaw(xData = x, yData = y, yErrors = erry, xlabel = 'x', ylabel = 'y', xUnits ='s', yUnits = 'm')\n",
    "```\n",
    "\n",
    "For the fits in this part of the lab, we will neglect the uncertainty in the $h(t)$ measurements.  For additional information about the 'Charging()' function, refer to **Appendix D** near the end of this notebook.\n",
    "\n",
    " *** Please do not change any of the variable names in the cell below ***"
   ]
  },
  {
   "cell_type": "code",
   "execution_count": null,
   "id": "c2958667",
   "metadata": {
    "tags": []
   },
   "outputs": [],
   "source": [
    "A2, tau2, dA2, dtau2, fig8 = PHYS121.Charging( xData = ...,\n",
    "                            yData = ..., \n",
    "                            xlabel = \"Time\", \n",
    "                            xUnits = \"s\", \n",
    "                            ylabel = \"Height\", \n",
    "                            yUnits = \"cm\") "
   ]
  },
  {
   "cell_type": "markdown",
   "id": "a5017486",
   "metadata": {
    "deletable": false,
    "editable": false,
    "tags": []
   },
   "source": [
    "<!-- END QUESTION -->\n",
    "\n",
    "***\n",
    "**<span style=\"color:blue\">Question 3.8</span>** **<span style=\"color:red\">(1 mark)</span>**  \n",
    "\n",
    "Next, for the second Teflon tube, use the experimental values of $\\tau_\\mathrm{H}\\pm \\Delta \\tau_\\mathrm{H}$ and $R_\\mathrm{H}\\pm\\Delta R_\\mathrm{H}$ to determine the hydraulic capacitance $C_\\mathrm{H}\\pm\\Delta C_\\mathrm{H}$.\n",
    "\n",
    "Note that the numerical values for $\\tau_\\mathrm{H}\\pm\\Delta\\tau_\\mathrm{H}$ and $R_\\mathrm{H}\\pm\\Delta R_\\mathrm{H}$ have a already been stored in variables called: \n",
    "```python\n",
    "tau2\n",
    "dtau2\n",
    "RH2\n",
    "dRH2\n",
    "```"
   ]
  },
  {
   "cell_type": "markdown",
   "id": "10a9fdc3",
   "metadata": {
    "deletable": false,
    "editable": false,
    "tags": []
   },
   "source": [
    "***\n",
    "**<span style=\"color:blue\">Answer 3.8:</span>**\n",
    "\n",
    "Make use of these variables.  It is not necessary to type in the numerical values.  In the cell below, replace the instances of ... with the appropriate expression to calculate $C_\\mathrm{H}$ and $\\Delta C_\\mathrm{H}$ for the data collected using the first Teflon tube. \n",
    "\n",
    " *** Please do not change any of the variable names in the cell below ***"
   ]
  },
  {
   "cell_type": "code",
   "execution_count": null,
   "id": "55396aa3",
   "metadata": {
    "tags": []
   },
   "outputs": [],
   "source": [
    "CH2 = ...\n",
    "dCH2 = ...\n",
    "print(f\"Results for tube with diameter {tube2_diameter} mm:\")\n",
    "print(f\"CH2 = ({CH2:.2e} +/- {dCH2:.2e}) m^4s^2/kg\")"
   ]
  },
  {
   "cell_type": "code",
   "execution_count": null,
   "id": "54940719",
   "metadata": {
    "deletable": false,
    "editable": false
   },
   "outputs": [],
   "source": [
    "grader.check(\"q3.8\")"
   ]
  },
  {
   "cell_type": "markdown",
   "id": "39d4675f",
   "metadata": {
    "deletable": false,
    "editable": false,
    "tags": []
   },
   "source": [
    "***\n",
    "**<span style=\"color:blue\">Question 3.9</span>** **<span style=\"color:red\">(1 mark)</span>**  \n",
    "\n",
    "Finally, use Eq. (8) to calculate the expected hydraulic capacitance of the glass tube.  To complete this calculation, you'll need to know that the inner radius of the glass tube is $r = 4.36\\rm\\ mm$."
   ]
  },
  {
   "cell_type": "markdown",
   "id": "cade571b",
   "metadata": {
    "deletable": false,
    "editable": false,
    "tags": []
   },
   "source": [
    "***\n",
    "**<span style=\"color:blue\">Answer 3.9:</span>**\n",
    "\n",
    "In the cell below, replace the ... with an expression that calculates the expected value $C_\\mathrm{H}$.  Recall that $\\pi$ can be accessed in Python using:\n",
    "```python\n",
    "np.pi\n",
    "```\n",
    "and powers are entered by repeating the multiplication sign as in:\n",
    "```python\n",
    "x**2\n",
    "```\n",
    "\n",
    " *** Please do not change any of the variable names in the cell below ***"
   ]
  },
  {
   "cell_type": "code",
   "execution_count": null,
   "id": "f68110c7",
   "metadata": {
    "tags": []
   },
   "outputs": [],
   "source": [
    "r = 4.36e-3 # m\n",
    "rho = 998 # kg/m^3\n",
    "g = 9.81 # m/s^2\n",
    "CH_expected = ...\n",
    "print(f\"The expected hydraulic capacitance is {CH_expected:.2e} m^4s^2/kg.\")"
   ]
  },
  {
   "cell_type": "code",
   "execution_count": null,
   "id": "e7005d49",
   "metadata": {
    "deletable": false,
    "editable": false
   },
   "outputs": [],
   "source": [
    "grader.check(\"q3.9\")"
   ]
  },
  {
   "cell_type": "markdown",
   "id": "b05cf639",
   "metadata": {
    "deletable": false,
    "editable": false,
    "tags": []
   },
   "source": [
    "<!-- BEGIN QUESTION -->\n",
    "\n",
    "***\n",
    "**<span style=\"color:blue\">Question 3.10</span>** **<span style=\"color:red\">(1 mark)</span>**   \n",
    "\n",
    " - Compare the two experimental values for $C_\\mathrm{H}\\pm\\Delta C_\\mathrm{H}$.  Do the values agree within experimental uncertainty?  If not, discuss some possible reasons that could account for the differences.\n",
    " \n",
    " - Compare the two experimental values for $C_\\mathrm{H}\\pm\\Delta C_\\mathrm{H}$ to the expected value calculated in **Question 3.9**.  Do the measured values agree with the exepcted value within experimental uncertainty?  If not, discuss some possible reasons that could account for the differences."
   ]
  },
  {
   "cell_type": "markdown",
   "id": "f8c8d6cb",
   "metadata": {},
   "source": [
    "***\n",
    "**<span style=\"color:blue\">Answer 3.10:</span>**\n",
    "\n",
    "[//]: # (Please do not delete this comment or anything above it.  Anything below this comment can be deleted.)  \n",
    "\n",
    "Double click this cell and enter your text here.  When done, hit 'Shift' + 'Enter' to execute the cell.  You may delete this text when entering your answer. "
   ]
  },
  {
   "cell_type": "markdown",
   "id": "968b76b3",
   "metadata": {
    "deletable": false,
    "editable": false,
    "tags": []
   },
   "source": [
    "<!-- END QUESTION -->\n",
    "\n",
    "# <div style=\"background-color:rgba(255, 204, 255, 0.5); text-align:center; vertical-align: middle; padding:40px 0; margin-top:30px\"><span style=\"color:rgba(102, 0, 204, 1);\">Part 4 - Stored Energy (30 minutes)</span></div>\n",
    "\n",
    "One way to express the energy stored by a charged capacitor is:\n",
    "\n",
    "$$\n",
    "U = \\frac{1}{2}q\\,\\Delta V\n",
    "\\tag{11}\n",
    "$$\n",
    "\n",
    "In the hydraulic analogue, $q\\to v$ and $\\Delta V\\to \\Delta P$ such that:\n",
    "\n",
    "$$\n",
    "U_\\mathrm{H} = \\frac{1}{2}v\\,\\Delta P\n",
    "\\tag{12}\n",
    "$$\n",
    "\n",
    "For a hydraulic capactor charged to a height difference $\\Delta h$, the pressure difference across the capacitor is given by $\\Delta P = \\rho g\\,\\Delta h$.  Subbing this result into Eq. (12) are reordering the factors gives:\n",
    "\n",
    "$$\n",
    "U_\\mathrm{H} = \\frac{1}{2}(\\rho v) g\\Delta h = mg\\left(\\frac{\\Delta h}{2}\\right)\n",
    "\\tag{13}\n",
    "$$\n",
    "\n",
    "where, in the last step, we have used the fact that $\\rho v$ is equal to the mass of the stored water.\n",
    "\n",
    "Recall that $mgy$ is the gravitational potential energy of a point mass $m$.  Notice also that $\\Delta h/2$ is the average height of the column of water in the hydraulic capacitor. See Fig. 6(b) below.  These observations show that the energy stored by a hydraulic capacitor corresponds to the average *gravitational potential energy* of the stored water.\n",
    "\n",
    "<p>\n",
    "<center>\n",
    "<img src=\"https://raw.githubusercontent.com/UBC-Okanagan-Physics-Labs/PHYS-121-images/main/Lab-5/images/storedEnergy.png\" alt=\"image info\" style=\"width: 80%; height: auto;\" /><br>\n",
    "    <b>Fig. 6: (a) An initially uncharged hydraulic capacitor. (b) A long time after openning the valve, the hydraulic capacitor fully charges.  A mass $m$ of water (shaded red) is effectively removed from the top of the water vessel (at a height $\\Delta h$) and transferred into the the hydraulic capacitor.</b></center>\n",
    "</p>\n",
    "\n",
    "We can also calculate the energy *lost* by the hydraulic battery during the charging process.  Effectively, as shown in Fig. 6, a mass $m$ of water was transferred from the top of the water vessel into the hydraulic capacitor.  Since the transferred mass was all effectively at a height $\\Delta h$, the energy lost by the hydraulic battery is:\n",
    "\n",
    "$$\n",
    "U_\\mathrm{lost} = mg\\Delta h\n",
    "\\tag{14}\n",
    "$$\n",
    "\n",
    "which is twice the energy stored by the capacitor!"
   ]
  },
  {
   "cell_type": "markdown",
   "id": "70e392da",
   "metadata": {
    "deletable": false,
    "editable": false,
    "tags": []
   },
   "source": [
    "<!-- BEGIN QUESTION -->\n",
    "\n",
    "***\n",
    "**<span style=\"color:blue\">Question 4.1</span>** **<span style=\"color:red\">(1 mark)</span>**   \n",
    "\n",
    "The analysis above reveals that charging the hydraulic capacitor causes the hydraulic battery to loss twice as much energy ($mg\\Delta h$) as the hydraulic capacitor gains ($mg\\Delta h/2$).  \n",
    "\n",
    " - What is the resolution of this apparent discrepancy?  \n",
    " - Why does the battery loss twice the energy that the capacitor gains?  \n",
    " - Where has the other half of the energy gone?\n",
    " \n",
    "Discuss some possible explanations with your partner and perhaps some of the neighbouring groups.  Enter your thoughts and ideas into the cell below. "
   ]
  },
  {
   "cell_type": "markdown",
   "id": "7c50426e",
   "metadata": {},
   "source": [
    "***\n",
    "**<span style=\"color:blue\">Answer 4.1:</span>**\n",
    "\n",
    "[//]: # (Please do not delete this comment or anything above it.  Anything below this comment can be deleted.)  \n",
    "\n",
    "Double click this cell and enter your text here.  When done, hit 'Shift' + 'Enter' to execute the cell.  You may delete this text when entering your answer. "
   ]
  },
  {
   "cell_type": "markdown",
   "id": "cce6886e",
   "metadata": {
    "deletable": false,
    "editable": false,
    "tags": []
   },
   "source": [
    "<!-- END QUESTION -->\n",
    "\n",
    "# <div style=\"background-color:rgba(255, 204, 255, 0.5); text-align:center; vertical-align: middle; padding:40px 0; margin-top:30px\"><span style=\"color:rgba(102, 0, 204, 1);\">Part 5 - Reflection and statement of contributions (20 minutes)</span></div>\n",
    "\n",
    "Hopefully Labs #4 and 5 have shown that concepts from electric circuits can be applied to problems in fluid dynamics:\n",
    " - Voltage differences drive the flow of charge through resistors in electric circuits $\\Longleftrightarrow$ Pressure differences drive the flow of fluid through pipes in hydraulic circuits\n",
    " - Electric capacitors store a quantity of charge and electrostatic potential energy $\\Longleftrightarrow$ Hydraulic capacitors store a volume of fluid and gravitational potential energy\n",
    " \n",
    "The analogue can be extended to other fields of physics.\n",
    " - Temperature difference drive the flow of heat through solid materials in thermal circuts.\n",
    " - Thermal capacitors store heat and thermal energy. \n",
    " \n",
    "However, it is important to also recognize that there are also limitations to the analogy.  In **Part 1** of today's lab, you likely found that, while electric resitance is proportional to $d^{-2}$, hydraulic resistance is proportional to $d^{-4}$.  This is an important difference, especially if you're designing a complex system of pumps and pipes.  "
   ]
  },
  {
   "cell_type": "markdown",
   "id": "6b9b6882",
   "metadata": {
    "deletable": false,
    "editable": false,
    "tags": []
   },
   "source": [
    "***\n",
    "Executing the cell below will open an YouTube video that shows a large electric capacitor charging through a $3000\\rm\\ \\Omega$ resistor.  The video is almost 27 minutes long.  You do **not** have to watch the whole thing, we're not going to ask you any questions about it.  Just use the scroll bar to move around to different point in the video.\n",
    "\n",
    "There are two multimeters in the video.  The one on the left measures the constant voltage output by the power supply.  It acts as the battery.  The multimeter on the right monitors the voltage across the capacitor which is expected to evolve with time as:\n",
    "\n",
    "$$\n",
    "V(t) = V_\\infty\\left(1-e^{-t/\\tau}\\right)\n",
    "$$\n",
    "\n",
    "What you should notice from watching the video is that initially the capacitor voltage increases relatively quickly.  The charging rate then decreases as time goes on.  You observed the exact same phenomenon in today's lab when measuring the height of the water column in the hydraulic capacitor.\n",
    "\n",
    "If you're looking for a minor challenge, try using the video and the fact that the capacitor is charging through a resistance of $R=3000\\rm\\ \\Omega$ to determine the value of the large blue capacitor.  Note: you do **not** need to collect a lot of data or do a plot/fit to find the value of $C$."
   ]
  },
  {
   "cell_type": "code",
   "execution_count": null,
   "id": "c41b6d0c",
   "metadata": {
    "deletable": false,
    "editable": false,
    "tags": []
   },
   "outputs": [],
   "source": [
    "YouTubeVideo(\"8DtKaZ2XiHA\", width=500)"
   ]
  },
  {
   "cell_type": "markdown",
   "id": "72b0162a",
   "metadata": {
    "deletable": false,
    "editable": false,
    "tags": []
   },
   "source": [
    "Finally, executing the cell below will take you directly to the part of the video where the capacitor, after being fully charged, is quickly discharged.  Because the capacitor is large, it stores a lot of charge.  By rapidly discharging the capacitor, the stored energy can be reovered in a very short time interval.  In the video, the capacitor is first disconnected from the power supply and multimeters.  Then, after turning out the lights, a screw driver is used to discharge the capacitor by short-circuitng the two capacitor terminals."
   ]
  },
  {
   "cell_type": "code",
   "execution_count": null,
   "id": "7350db84",
   "metadata": {
    "deletable": false,
    "editable": false,
    "tags": []
   },
   "outputs": [],
   "source": [
    "YouTubeVideo(\"8DtKaZ2XiHA\", width=500, start=1524)"
   ]
  },
  {
   "cell_type": "markdown",
   "id": "4f0174a3",
   "metadata": {
    "deletable": false,
    "editable": false,
    "tags": []
   },
   "source": [
    "***\n",
    "Below, you will briefly summarize the contributions that you and your partner made when completely this lab.  Please ensure that both partners have a chance to engage in all types of lab activities (developing the experimental methods/data collection strategies, hands-on interaction with the apparatus/data collection, and data processing/analysis in the Jupyter notebook).  Note that statements of contributions are common in science.  The figure below shows one example taken from a 2021 paper published in the journal *Nature Physics*.\n",
    "\n",
    "<p>\n",
    "<center>\n",
    "<img src=\"https://cmps-people.ok.ubc.ca/jbobowsk/PHYS_121_Lab/Lab1/images/contributions.jpg\" alt=\"image info\" style=\"width: 60%; height: auto;\" /><br>\n",
    "<b>Fig. 2: A sample statement of author contributions from a recent journal article.</b></center>\n",
    "</p>\n"
   ]
  },
  {
   "cell_type": "markdown",
   "id": "29e71dd8",
   "metadata": {
    "deletable": false,
    "editable": false,
    "tags": []
   },
   "source": [
    "<!-- BEGIN QUESTION -->\n",
    "\n",
    "***\n",
    "**<span style=\"color:blue\">Question 5.1(a):</span>**  \n",
    "\n",
    "Answer this question only if you worked with a partner to complete this lab.\n",
    "\n",
    "In two or three sentences describe the specific contributions of **Partner A** to this lab.  For example, worked with the experimental apparatus to collect data for Part 1 of the lab, entered and processed the data in the Jupyter notebook for Part 2 of the lab, ...  "
   ]
  },
  {
   "cell_type": "markdown",
   "id": "7ffbfd16",
   "metadata": {},
   "source": [
    "***\n",
    "**<span style=\"color:blue\">Answer 5.1(a):</span>**\n",
    "\n",
    "[//]: # (Please do not delete this comment or anything above it.  Anything below this comment can be deleted.)  \n",
    "\n",
    "Double click this cell and enter your text here.  Please start be entering the name and student number of **Partner A**.  When done, hit 'Shift' + 'Enter' to execute the cell.  You may delete this text when entering your answer. "
   ]
  },
  {
   "cell_type": "markdown",
   "id": "6782fe75",
   "metadata": {
    "deletable": false,
    "editable": false,
    "tags": []
   },
   "source": [
    "<!-- END QUESTION -->\n",
    "\n",
    "<!-- BEGIN QUESTION -->\n",
    "\n",
    "***\n",
    "**<span style=\"color:blue\">Question 5.1(b):</span>**  \n",
    "\n",
    "Answer this question only if you worked with a partner to complete this lab.\n",
    "\n",
    "In two or three sentences describe the specific contributions of **Partner B** to this lab.  "
   ]
  },
  {
   "cell_type": "markdown",
   "id": "d375320c",
   "metadata": {},
   "source": [
    "***\n",
    "**<span style=\"color:blue\">Answer 5.1(b):</span>**\n",
    "\n",
    "[//]: # (Please do not delete this comment or anything above it.  Anything below this comment can be deleted.)  \n",
    "\n",
    "Double click this cell and enter your text here.  Please start be entering the name and student number of **Partner B**.  When done, hit 'Shift' + 'Enter' to execute the cell.  You may delete this text when entering your answer. "
   ]
  },
  {
   "cell_type": "markdown",
   "id": "7883688f",
   "metadata": {
    "deletable": false,
    "editable": false,
    "tags": []
   },
   "source": [
    "<!-- END QUESTION -->\n",
    "\n",
    "# <div style=\"background-color:rgba(255, 204, 255, 0.5); text-align:center; vertical-align: middle; padding:40px 0; margin-top:30px\"><span style=\"color:rgba(102, 0, 204, 1);\">Part 6 - Submission (5 minutes)</span></div>"
   ]
  },
  {
   "cell_type": "markdown",
   "id": "b77e2b1b",
   "metadata": {
    "deletable": false,
    "editable": false,
    "tags": []
   },
   "source": [
    "<!-- BEGIN QUESTION -->\n",
    "\n",
    "***\n",
    "**<span style=\"color:blue\">Question 6.1:</span>**  \n",
    "\n",
    "We welcome your feedback on the PHYS 121 labs!  Please feel free to include any comments you have about this lab in the cell below.  Your comments will be taken into consideration when revising/improving the PHYS 121 labs.  You can suggest improvements, point out anything that was unclear, comment on the strengths and weaknesses of the lab, ...\n",
    "\n",
    "This question is optional and will have no impact on your lab grade."
   ]
  },
  {
   "cell_type": "markdown",
   "id": "56ea54cf",
   "metadata": {},
   "source": [
    "***\n",
    "**<span style=\"color:blue\">Answer 6.1:</span>**\n",
    "\n",
    "[//]: # (Please do not delete this comment or anything above it.  Anything below this comment can be deleted.)  \n",
    "\n",
    "Double click this cell and enter your text here.  When done, hit 'Shift' + 'Enter' to execute the cell.  You may delete this text when entering your answer. "
   ]
  },
  {
   "cell_type": "markdown",
   "id": "f166aea5",
   "metadata": {
    "deletable": false,
    "editable": false,
    "tags": []
   },
   "source": [
    "<!-- END QUESTION -->\n",
    "\n",
    "---\n",
    "\n",
    "To double-check your work, the cell below will rerun all of the autograder tests."
   ]
  },
  {
   "cell_type": "code",
   "execution_count": null,
   "id": "a45e3bcc",
   "metadata": {
    "deletable": false,
    "editable": false,
    "tags": []
   },
   "outputs": [],
   "source": [
    "grader.check_all()"
   ]
  },
  {
   "cell_type": "markdown",
   "id": "e4c73339",
   "metadata": {
    "deletable": false,
    "editable": false,
    "tags": []
   },
   "source": [
    "***\n",
    "\n",
    "## Submission\n",
    "\n",
    "Make sure you have run all cells in your notebook in order before running the cell below, so that all images/graphs appear in the output. The cell below will generate a zip file for you to submit. **Please save before exporting!**\n",
    "\n",
    "Once you've completed this notebook:\n",
    "- Save your work.\n",
    "- Run 'grader.export()' to generate a .zip file containing all of the materials that you will submit.\n",
    "- Download the generated .zip file.\n",
    "- Upload the .zip file to the PHYS 121 Canvas gradebook.\n",
    "\n",
    "Here is a <a href = \"https://raw.githubusercontent.com/UBC-Okanagan-Physics-Labs/PHYS-121-images/main/general/gifs/Submission.gif\">GIF</a> showing how these steps are completed.  Once your completed notebook has been uploaded to the Canvas gradebook, you're done!"
   ]
  },
  {
   "cell_type": "code",
   "execution_count": null,
   "id": "7fc92144",
   "metadata": {
    "deletable": false,
    "editable": false,
    "tags": []
   },
   "outputs": [],
   "source": [
    "# Save your notebook first, then run this cell (place your cursor in the cell and then hit Shift + Enter) to export \n",
    "# your submission.  Uploaded the .zip file that is generated to the gradebook of the Canvas shell for the PHYS 121 lab.\n",
    "grader.export()"
   ]
  },
  {
   "cell_type": "markdown",
   "id": "cb08ffc1",
   "metadata": {
    "deletable": false,
    "editable": false,
    "tags": []
   },
   "source": [
    "# <div style=\"background-color:rgba(255, 204, 255, 0.5); text-align:center; vertical-align: middle; padding:40px 0; margin-top:30px\"><span style=\"color:rgba(102, 0, 204, 1);\">Part 7 - Playground (optional)</span></div>\n",
    "\n",
    "Feel free to add as many cells as you like below and use them as a playground for further independent investigations.  These cells won't be graded, so feel free to use them in any way that you like.  "
   ]
  },
  {
   "cell_type": "code",
   "execution_count": null,
   "id": "f6b5d9e7",
   "metadata": {},
   "outputs": [],
   "source": [
    "# Here's an empty code cell that you can use.  "
   ]
  },
  {
   "cell_type": "code",
   "execution_count": null,
   "id": "d7349005",
   "metadata": {},
   "outputs": [],
   "source": [
    "# Here's another empty code cell that you can use."
   ]
  },
  {
   "cell_type": "code",
   "execution_count": null,
   "id": "523a23d6",
   "metadata": {},
   "outputs": [],
   "source": [
    "# Here's yet another empty code cell that you can use.  \n",
    "# If you need more, you can add cells using the '+' icon in the menu bar at to the top of the screen."
   ]
  },
  {
   "cell_type": "markdown",
   "id": "72722179",
   "metadata": {
    "deletable": false,
    "editable": false,
    "tags": []
   },
   "source": [
    "### <div style=\"background-color:rgba(255, 255, 102, 0.5); text-align:left; padding:20px 0; margin-top:20px\">$\\quad$Appendix A &ndash; The Scatter Function...</div>\n",
    "\n",
    "The function for generating scatter plots is called as follows:\n",
    "```python\n",
    "Scatter(xData, yData, yErrors = [], xlabel = 'x-axis', ylabel = 'y-axis', xUnits = '', yUnits = '', fill = False, show = True)\n",
    "```\n",
    "The 'xData' and 'yData' inputs are required, all other arguments are optional with default values set.  The function returns the a single output (the formatted plot):\n",
    "```python\n",
    "fig\n",
    "```\n",
    "\n",
    "The function will do a simple scatter plot if no 'yError' are included.  It will included error bars if 'yErrors' are passed to the function.  The 'fill' and 'show' arguments should generally be false.  \n",
    "\n",
    "If the 'xData' list is empty, as in:\n",
    "```python\n",
    "xData = []\n",
    "```\n",
    "then the x-axis will be the trial number.  For example, is 'xData' is empty and 'yData' has 10 elements, the x-axis will span 1 to 10.\n",
    "\n",
    "### Scatter Example Implmentation\n",
    "The code block below shows an implementation of 'Scatter'.\n",
    "```python\n",
    "import PHYS121\n",
    "theta = [10, 20, 30] # degrees\n",
    "T = [2.02, 1.95, 2.13] # s\n",
    "errT = [0.02, 0.02, 0.03] # s\n",
    "fig = PHYS121.Scatter(theta, T, errT, 'initial angle' , 'period', 'degrees', 's')\n",
    "```\n",
    "\n",
    "If you're interested in generating your own plots with customized formatting, see the following Python-based plotting tutorial: https://cmps-people.ok.ubc.ca/jbobowsk/Python/html/Jupyter%20Basic%20Plots.html.\n",
    "***"
   ]
  },
  {
   "cell_type": "markdown",
   "id": "0e7ad779",
   "metadata": {
    "deletable": false,
    "editable": false,
    "tags": []
   },
   "source": [
    "### <div style=\"background-color:rgba(255, 255, 102, 0.5); text-align:left; padding:20px 0; margin-top:20px\">$\\quad$Appendix B &ndash; The PowerLaw Function...</div>\n",
    "\n",
    "The power law function fits data to a function of the form $y=A\\,x^N + C$ and is called as follows:\n",
    "```python\n",
    "PowerLaw(xData, yData, yErrors = [], xlabel = 'x-axis', ylabel = 'y-axis', xUnits = '', yUnits = '')\n",
    "```\n",
    "The xData and yData lists are required.  The others are optional with default values set.  The function returns the following outputs:\n",
    "```python\n",
    "A, N, C, errA, errN, errC, fig\n",
    "```\n",
    "The first six outputs are numerical values and 'fig' is the formatted plot. \n",
    "\n",
    "If $y$-uncertainties are provided, the function will perform a weighted fit.  The $y$-uncertainties list must be the same length as $x$- and $y$-data lists.  If $y$-uncertainties are not provided, the fit will be unweighted.  The other optional arguments include $x$- and $y$-axis names and units for the $x$- and $y$-datasets.  These must be entered as strings (enclosed in quotations) and they are used for formatting the outputs of the function.\n",
    "\n",
    "### Unweighted Fit Example Implmentation\n",
    "The code block below shows the most basic use of 'PowerLaw' for an unweighted fit without any of the optional arguments.\n",
    "```python\n",
    "import PHYS121\n",
    "x = [1, 2, 3, 4]\n",
    "y = [1.1, 3.9, 8.7, 16.5]\n",
    "A, N, C, dA, dN, dC, fig = PHYS121.PowerLaw(x, y)\n",
    "```\n",
    "\n",
    "### Weighted Fit Example Implmentation\n",
    "This second blcok of code shows how to use 'PowerLaw' to do a weighted fit.  It also makes use of all of the other optional arguments.  \n",
    "```python\n",
    "import PHYS121\n",
    "x = [1, 2, 3, 4]\n",
    "y = [1.1, 3.9, 8.7, 16.5]\n",
    "erry = [0.05, 0.12, 0.20, 0.5]\n",
    "A, N, C, dA, dN, dC, fig = PHYS121.PowerLaw(x, y, erry, 'x' , 'y', 's', 'm')\n",
    "```\n",
    "\n",
    "The 'A, N, C, dA, dN, dC, fig = ...' syntax is used to store the function outputs in variables.\n",
    "***"
   ]
  },
  {
   "cell_type": "markdown",
   "id": "35b3defe",
   "metadata": {
    "deletable": false,
    "editable": false,
    "tags": []
   },
   "source": [
    "### <div style=\"background-color:rgba(255, 255, 102, 0.5); text-align:left; padding:20px 0; margin-top:20px\">$\\quad$Appendix C &ndash; The LinearFit Function...</div>\n",
    "\n",
    "The linear-fit function is called as follows:\n",
    "```python\n",
    "LinearFit(xData, yData, yErrors = [], xlabel = 'x-axis', ylabel = 'y-axis', xUnits = '', yUnits = '', fill = False)\n",
    "```\n",
    "The xData and yData lists are required.  The others are optional with default values set.  The function returns the following outputs:\n",
    "```python\n",
    "Slope, Yintercept, errSlope, errYintercept, fig\n",
    "```\n",
    "The first four outputs are numerical values and 'fig' is the formatted plot. \n",
    "\n",
    "If $y$-uncertainities are provided, the function will perform a weighted fit.  The $y$-uncertainties list must be the same length as $x$- and $y$-data lists.  If $y$-uncertainties are not provided, the fit will be unweighted.  The other optional arguments include $x$- and $y$-axis names and units for the $x$- and $y$-datasets.  These must be entered as strings (enclosed in quotations) and they are used for formatting the outputs of the function.  If 'fill' is set to True, shading will be added around the best-fit line representing confindence intervals. \n",
    "\n",
    "### Unweighted Fit Example Implmentation\n",
    "The code block below shows the most basic use of 'LinearFit' for an unweighted fit without any of the optional arguments.\n",
    "```python\n",
    "import PHYS121\n",
    "V = [1, 2, 3, 4]\n",
    "I = [0.12, 0.198, 0.285, 0.412]\n",
    "m, b, dm, db, fig = PHYS121.LinearFit(V, I)\n",
    "```\n",
    "\n",
    "### Weighted Fit Example Implmentation\n",
    "This second blcok of code shows how to use 'LinearFit' to do a weighted fit.  It also makes use of all of the other optional arguments.  \n",
    "```python\n",
    "import PHYS121\n",
    "V = [1, 2, 3, 4]\n",
    "I = [0.12, 0.198, 0.285, 0.412]\n",
    "errI = [0.005, 0.012, 0.020, 0.025]\n",
    "m, b, dm, db, fig = PHYS121.LinearFit(V, I, errI, 'voltage' , 'current', 'V', 'A', True)\n",
    "```\n",
    "\n",
    "The 'm, b, dm, db, fig = ...' syntax is used to store the function outputs in varibles.  If you're interested in details of the fitting process, see the following Python-based tutorial: https://cmps-people.ok.ubc.ca/jbobowsk/Python/html/Jupyter%20Weighted%20Linear%20Fit.html\n",
    "***"
   ]
  },
  {
   "cell_type": "markdown",
   "id": "23693300",
   "metadata": {
    "deletable": false,
    "editable": false,
    "tags": []
   },
   "source": [
    "### <div style=\"background-color:rgba(255, 255, 102, 0.5); text-align:left; padding:20px 0; margin-top:20px\">$\\quad$Appendix D &ndash; The Charging Function...</div>\n",
    "\n",
    "The Charging function is called as follows:\n",
    "```python\n",
    "Charging(xData, yData, yErrors = [], xlabel = 'x-axis', ylabel = 'y-axis', xUnits = '', yUnits = '')\n",
    "```\n",
    "The xData and yData lists are required.  The others are optional with default values set.  The function returns the following outputs:\n",
    "```python\n",
    "A, tau, errA, errtau, fig\n",
    "```\n",
    "The first four outputs are numerical values and 'fig' is the formatted plot. \n",
    "\n",
    "If $y$-uncertainities are provided, the function will perform a weighted fit.  The $y$-uncertainties list must be the same length as $x$- and $y$-data lists.  If $y$-uncertainties are not provided, the fit will be unweighted.  The other optional arguments include $x$- and $y$-axis names and units for the $x$- and $y$-datasets.  These must be entered as strings (enclosed in quotations) and they are used for formatting the outputs of the function.\n",
    "\n",
    "### Unweighted Fit Example Implmentation\n",
    "The code block below shows the most basic use of 'Charging' for an unweighted fit without any of the optional arguments.\n",
    "```python\n",
    "import PHYS121\n",
    "t = [1, 2, 3, 4]\n",
    "h = [0.095, 0.182, 0.255, 0.335]\n",
    "A, tau, dA, dtau, fig = PHYS121.Charging(t, h)\n",
    "```\n",
    "\n",
    "### Weighted Fit Example Implmentation\n",
    "This second blcok of code shows how to use 'Charging' to do a weighted fit.  It also makes use of all of the other optional arguments.  \n",
    "```python\n",
    "import PHYS121\n",
    "t = [1, 2, 3, 4]\n",
    "h = [0.095, 0.182, 0.255, 0.335]\n",
    "errh = [0.005, 0.012, 0.020, 0.025]\n",
    "A, tau, dA, dtau, fig = PHYS121.Charging(t, h, errh, 'time' , 'height', 's', 'cm')\n",
    "```\n",
    "\n",
    "The 'A, tau, dA, dtau, fig = ...' syntax is used to store the function outputs in varibles.  If you're interested in details of the nonlinear fitting process, see the following Python-based tutorial: https://cmps-people.ok.ubc.ca/jbobowsk/Python/html/Jupyter%20Weighted%20Nonlinear%20Fit.html\n",
    "***"
   ]
  },
  {
   "cell_type": "markdown",
   "id": "648f70a0",
   "metadata": {
    "deletable": false,
    "editable": false,
    "tags": []
   },
   "source": [
    "<img src=\"https://raw.githubusercontent.com/UBC-Okanagan-Physics-Labs/PHYS-121-images/main/general/images/ubc-logo-full.jpg\" width=\"500\"/>"
   ]
  },
  {
   "cell_type": "markdown",
   "id": "321c9e58",
   "metadata": {},
   "source": [
    "Last update: February 27, 2023"
   ]
  }
 ],
 "metadata": {
  "kernelspec": {
   "display_name": "Python 3 (ipykernel)",
   "language": "python",
   "name": "python3"
  },
  "language_info": {
   "codemirror_mode": {
    "name": "ipython",
    "version": 3
   },
   "file_extension": ".py",
   "mimetype": "text/x-python",
   "name": "python",
   "nbconvert_exporter": "python",
   "pygments_lexer": "ipython3",
   "version": "3.10.6"
  },
  "otter": {
   "OK_FORMAT": true,
   "tests": {
    "name_and_student_number": {
     "name": "name_and_student_number",
     "points": null,
     "suites": [
      {
       "cases": [
        {
         "code": ">>> isinstance(last_name_1, str)\nTrue",
         "failure_message": "last_name_1 must be a string (i.e. surround your answer by either single or double quotes).",
         "hidden": false,
         "locked": false,
         "points": 0
        },
        {
         "code": ">>> isinstance(first_name_1, str)\nTrue",
         "failure_message": "first_name_1 must be a string (i.e. surround your answer by either single or double quotes).",
         "hidden": false,
         "locked": false,
         "points": 0
        },
        {
         "code": ">>> isinstance(student_number_1, str)\nTrue",
         "failure_message": "student_number_1 must be a string (i.e. surround your answer by either single or double quotes).",
         "hidden": false,
         "locked": false,
         "points": 0
        },
        {
         "code": ">>> test = True\n>>> if isinstance(student_number_1, str):\n...     test = len(student_number_1) == 8\n>>> test\nTrue",
         "failure_message": "student_number_1 must be a string of exactly 8 characters.",
         "hidden": false,
         "locked": false,
         "points": 0
        },
        {
         "code": ">>> test = True\n>>> if isinstance(student_number_1, str):\n...     test = student_number_1.isdigit()\n>>> test\nTrue",
         "failure_message": "student_number_1 must contain only interger digits (0, 1, 2, 3, ..., 9)",
         "hidden": false,
         "locked": false,
         "points": 0.5
        },
        {
         "code": ">>> isinstance(last_name_2, str) or last_name_2 == ...\nTrue",
         "failure_message": "last_name_2 must be a string (i.e. surround your answer by either single or double quotes).",
         "hidden": false,
         "locked": false,
         "points": 0
        },
        {
         "code": ">>> isinstance(first_name_2, str) or first_name_2 == ...\nTrue",
         "failure_message": "first_name_2 must be a string (i.e. surround your answer by either single or double quotes).",
         "hidden": false,
         "locked": false,
         "points": 0
        },
        {
         "code": ">>> isinstance(student_number_2, str) or student_number_2 == ...\nTrue",
         "failure_message": "student_number_2 must be a string (i.e. surround your answer by either single or double quotes).",
         "hidden": false,
         "locked": false,
         "points": 0
        },
        {
         "code": ">>> test = True\n>>> if isinstance(student_number_2, str):\n...     test = len(student_number_2) == 8\n>>> test\nTrue",
         "failure_message": "student_number_2 must be a string of exactly 8 characters or be left as ...",
         "hidden": false,
         "locked": false,
         "points": 0
        },
        {
         "code": ">>> test = True\n>>> if isinstance(student_number_2, str):\n...     test = student_number_2.isdigit()\n>>> test\nTrue",
         "failure_message": "student_number_2 must contain only interger digits (0, 1, 2, 3, ..., 9) or be left as ...",
         "hidden": false,
         "locked": false,
         "points": 0.5
        }
       ],
       "scored": true,
       "setup": "",
       "teardown": "",
       "type": "doctest"
      }
     ]
    },
    "q1.6": {
     "name": "q1.6",
     "points": null,
     "suites": [
      {
       "cases": [
        {
         "code": ">>> a1_6.lower() in [\"a\", \"b\", \"c\", \"d\", \"e\", \"f\", \"g\", \"h\", \"i\"]\nTrue",
         "failure_message": "Your answer must be a string of one of 'a', 'b', 'c', 'd', 'e', 'f', 'g', 'h', or 'i'.",
         "hidden": false,
         "locked": false,
         "points": 0
        }
       ],
       "scored": true,
       "setup": "",
       "teardown": "",
       "type": "doctest"
      }
     ]
    },
    "q2.1": {
     "name": "q2.1",
     "points": null,
     "suites": [
      {
       "cases": [
        {
         "code": ">>> a2_1.lower() in [\"a\", \"b\", \"c\", \"d\", \"e\", \"f\"]\nTrue",
         "failure_message": "Your answer must be a string of one of 'a', 'b', 'c', 'd', 'e', or 'f'.",
         "hidden": false,
         "locked": false,
         "points": 0
        }
       ],
       "scored": true,
       "setup": "",
       "teardown": "",
       "type": "doctest"
      }
     ]
    },
    "q3.1": {
     "name": "q3.1",
     "points": null,
     "suites": [
      {
       "cases": [
        {
         "code": ">>> len(tube1[\"time\"]) >= 15 and len(tube1[\"height\"]) >= 15 \nTrue",
         "failure_message": "You must collect at least 15 data points.",
         "hidden": false,
         "locked": false,
         "points": 0
        }
       ],
       "scored": true,
       "setup": "",
       "teardown": "",
       "type": "doctest"
      }
     ]
    },
    "q3.4": {
     "name": "q3.4",
     "points": null,
     "suites": [
      {
       "cases": [
        {
         "code": ">>> np.isclose(CH1, tau1/RH1, rtol=1e-02)\nTrue",
         "failure_message": "Try again.  Recall that tau = RH*CH.",
         "hidden": false,
         "locked": false,
         "points": 0.5
        },
        {
         "code": ">>> np.isclose(dCH1, CH1*(dtau1/tau1 + dRH1/RH1), rtol=1e-02)\nTrue",
         "failure_message": "Try again.  Remember that fractional errors add for prducts and quotients.",
         "hidden": false,
         "locked": false,
         "points": 0.5
        }
       ],
       "scored": true,
       "setup": "",
       "teardown": "",
       "type": "doctest"
      }
     ]
    },
    "q3.5": {
     "name": "q3.5",
     "points": null,
     "suites": [
      {
       "cases": [
        {
         "code": ">>> len(tube2[\"time\"]) >= 12 and len(tube2[\"height\"]) >= 15 \nTrue",
         "failure_message": "You must collect at least 15 data points.",
         "hidden": false,
         "locked": false,
         "points": 0
        }
       ],
       "scored": true,
       "setup": "",
       "teardown": "",
       "type": "doctest"
      }
     ]
    },
    "q3.8": {
     "name": "q3.8",
     "points": null,
     "suites": [
      {
       "cases": [
        {
         "code": ">>> np.isclose(CH2, tau2/RH2, rtol=1e-02)\nTrue",
         "failure_message": "Try again.  Recall that tau = RH*CH.",
         "hidden": false,
         "locked": false,
         "points": 0.5
        },
        {
         "code": ">>> np.isclose(dCH2, CH2*(dtau2/tau2 + dRH2/RH2), rtol=1e-02)\nTrue",
         "failure_message": "Try again.  Remember that fractional errors add for prducts and quotients.",
         "hidden": false,
         "locked": false,
         "points": 0.5
        }
       ],
       "scored": true,
       "setup": "",
       "teardown": "",
       "type": "doctest"
      }
     ]
    },
    "q3.9": {
     "name": "q3.9",
     "points": null,
     "suites": [
      {
       "cases": [
        {
         "code": ">>> np.isclose(CH_expected, np.pi*r**2/(rho*g), rtol=1e-02)\nTrue",
         "failure_message": "Try again.  See Eq. (8).",
         "hidden": false,
         "locked": false,
         "points": 1
        }
       ],
       "scored": true,
       "setup": "",
       "teardown": "",
       "type": "doctest"
      }
     ]
    }
   }
  },
  "vscode": {
   "interpreter": {
    "hash": "a3448a62a2fc6ba7415a3df2d7b3c301caefdbc41be54965de5a6d7c0b59d384"
   }
  }
 },
 "nbformat": 4,
 "nbformat_minor": 5
}
